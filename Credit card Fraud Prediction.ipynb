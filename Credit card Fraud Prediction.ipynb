{
 "cells": [
  {
   "cell_type": "code",
   "execution_count": 51,
   "id": "22bfa1ba",
   "metadata": {},
   "outputs": [],
   "source": [
    "from matplotlib import pyplot as plt\n",
    "import seaborn as sns\n",
    "from IPython.display import Image # # the Image function from the IPython.display module. This module provides a number of functions for displaying different types of content in IPython notebooks, including images."
   ]
  },
  {
   "cell_type": "markdown",
   "id": "9be4bd84",
   "metadata": {},
   "source": [
    "#### Table of Contents\n",
    "\n",
    "#### Introduction\n",
    "\n",
    "#### Metrics for imbalanced data\n",
    "1. 2.1 Failure of Classification Accuracy for Imbalanced Class Distributions\n",
    "2. 2.2 The most common metrics to use for imbalanced datasets\n",
    "3. 2.3 Choosing metrics\n",
    "\n",
    "#### Set-up\n",
    "1. 3.1 Import Libraries\n",
    "2. 3.2 Import Data\n",
    "3. 3.3 Data Sets Characteristics\n",
    "4. 3.4 Data imbalance check\n",
    "5. 3.5 99,8% Accuracy score before implementing any model\n",
    "\n",
    "#### Data pre-processing\n",
    "1. 4.1 Dropping duplicated values\n",
    "2.4.2 Why we shouldn't delete outliers in this case\n",
    "3. 4.2.1 Checking for outliers\n",
    "4. 4.2.2 Inter Quartile Range (IQR)\n",
    "5. 4.2.3 Conclusion - very important!\n",
    "\n",
    "#### Train test split - you could have been splitting your dataset all wrong\n",
    "1. 5.1 Stratified splitting\n",
    "2. 5.2 Oversample/undersample before or after splitting data?\n",
    "\n",
    "#### Feature scaling\n",
    "#### Baseline (no oversampling)\n",
    "1. 7.1 Cross-validation\n",
    "2. 7.2 Stratified K-Fold CV (Cross-Validation)\n",
    "3. 7.3 Oversample/undersample and Cross Validation\n",
    "4. 7.4 Optimising for Recall\n",
    "5. 7.5 When is Precision more important over Recall?\n",
    "6. 7.6 Hyperparameter Tuning Using GridSearchCV\n",
    "\n",
    "#### Random Resampling Imbalanced Datasets\n",
    "1. 8.1 Random Oversampling\n",
    "2. 8.1.1 Imbalanced-Learn Pipeline\n",
    "3. 8.1.2 Training model\n",
    "4. 8.1.3 GridSearchCV\n",
    "5. 8.1.4 Confusion matrix and scores\n",
    "6. 8.2 Random Undersampling Imbalanced Datasets\n",
    "\n",
    "#### SMOTE (Synthetic Minority Oversampling Technique)\n",
    "1. 9.1 Training model\n",
    "2. 9.2 GridSearchCV\n",
    "3. 9.3 Confusion matrix and scores\n",
    "\n",
    "#### Undersampling using Tomek Links\n",
    "#### Combining SMOTE and Tomek Links\n",
    "1. 11.1 Training model\n",
    "2. 11.2 GridSearchCV\n",
    "3. 11.3 Confusion matrix and scores\n",
    "\n",
    "#### Class weights in the models\n",
    "1. 12.1 Training model\n",
    "2. 12.2 GridSearchCV\n",
    "3. 12.3 Confusion matrix and scores\n",
    "\n",
    "#### Performance comparison\n",
    "1. 13.1 Summary\n",
    "\n",
    "#### Other Metrics\n",
    "1. 14.1 AUC-ROC Curve\n",
    "2. 14.2 Precision-Recall Curve (PR curve)\n",
    "3. My other notebooks recommendations"
   ]
  },
  {
   "cell_type": "markdown",
   "id": "d469d727",
   "metadata": {},
   "source": [
    "### 3. Set-up\n",
    "#### 3. 1 Import Libraries\n"
   ]
  },
  {
   "cell_type": "code",
   "execution_count": 52,
   "id": "0ae8c669",
   "metadata": {},
   "outputs": [],
   "source": [
    "import numpy as np\n",
    "import pandas as pd\n",
    "import seaborn as sns\n",
    "import plotly.express as px\n",
    "from matplotlib import pyplot as plt\n",
    "from sklearn.model_selection import cross_val_score\n",
    "\n",
    "from sklearn import metrics\n",
    "from collections import Counter # # The code you provided imports the Counter class from the collections module. The Counter class is a container that stores elements as dictionary keys, and their counts are stored as dictionary values. This means that the Counter class can be used to count the number of occurrences of each element in a sequence."
   ]
  },
  {
   "cell_type": "markdown",
   "id": "6d0161f4",
   "metadata": {},
   "source": [
    "### 1. Introduction\n",
    "Imbalanced data refers to a situation, primarily in classification machine learning, where one target class represents a significant proportion of observations. Imbalanced datasets are those where there is a severe skew in the class distribution, such as 1:100 or 1:1000 examples in the minority class to the majority class.\n",
    "\n",
    "Class Imbalance appear in many domains, including:\n",
    "\n",
    "1. Fraud detection (the vast majority of the transactions will be in the \"Not-Fraud” class)\n",
    "2. Disease screening (the vast majority will be healthy)\n",
    "3. Subscription churn (the vast majority of customers stay with the service - the “No-Churn” class)\n",
    "4. Ad Serving (click prediction datasets don’t have a high clickthrough rate)\n",
    "There are several approaches to solving class imbalance problem before starting classification, such as:\n",
    "\n",
    "1. More samples from the minority class(es) should be acquired from the knowledge domain.\n",
    "\n",
    "2. Changing the loss function to give the failing minority class a higher cost.\n",
    "\n",
    "3. Oversampling the minority class.\n",
    "\n",
    "4. Undersampling the majority class.\n",
    "\n",
    "5. Any combination of previous approaches.\n",
    "\n",
    "Oversampling methods duplicate or create new synthetic examples in the minority class, whereas undersampling methods delete or merge examples in the majority class. Oversampling is the most often used approach (but not necessarily the best).\n",
    "\n"
   ]
  },
  {
   "cell_type": "markdown",
   "id": "f69242c5",
   "metadata": {},
   "source": [
    "### 2. Metrics for imbalanced data\n",
    "#### 2. 1 Failure of Classification Accuracy for Imbalanced Class Distributions\n",
    "Classification accuracy is a metric that summarizes the performance of a classification model as the number of correct predictions divided by the total number of predictions.\n",
    "\n",
    "Accuracy = Correct Predictions / Total Predictions\n",
    "\n",
    "Achieving 90 percent classification accuracy, or even 99 percent classification accuracy, may be trivial on an imbalanced classification problem. Consider the case of an imbalanced dataset with a 1:100 class imbalance. Blind guess will give us a 99% accuracy score (by betting on majority class).\n",
    "\n",
    "The rule of thumb is: accuracy never helps in imbalanced dataset."
   ]
  },
  {
   "cell_type": "markdown",
   "id": "eb9a8b44",
   "metadata": {},
   "source": [
    "#### 2.2 The most common metrics to use for imbalanced datasets\n",
    "The most common metrics to use for imbalanced datasets are:\n",
    "\n",
    "- F1 score\n",
    "- Precision\n",
    "- Recall\n",
    "- AUC score (AUC ROC)\n",
    "- Average precision score (AP)\n",
    "- G-Mean\n",
    "It is good practice to track multiple metrics when developing a machine learning model as each highlights different aspects of model performance.\n",
    "\n",
    "#### 2.3 Choosing metrics\n",
    "Are you predicting probabilities?\n",
    "\n",
    "- Do you need class labels?\n",
    "1. Is the positive class more important?\n",
    "2. Use Precision-Recall AUC\n",
    "\n",
    "- Are both classes important?\n",
    "1. Use ROC AUC\n",
    "2. Do you need probabilities?\n",
    "3. Use Brier Score and Brier Skill Score\n",
    "\n",
    "- Are you predicting class labels?\n",
    "\n",
    "1. Is the positive class more important?\n",
    "2. Are False Negatives and False Positives Equally Important?\n",
    "3. Use F1-Measure\n",
    "4. Are False Negatives More Important?\n",
    "5. Use F2-Measure\n",
    "6. Are False Positives More Important?\n",
    "7. Use F0.5-Measure\n",
    "8. Are both classes important?\n",
    "9. Do you have < 80%-90% Examples for the Majority Class?\n",
    "10. Use Accuracy\n",
    "11. Do you have > 80%-90% Examples for the Majority Class?\n",
    "12. Use G-Mean"
   ]
  },
  {
   "cell_type": "markdown",
   "id": "6ae6ee15",
   "metadata": {},
   "source": [
    "### 3.2 Import Data"
   ]
  },
  {
   "cell_type": "code",
   "execution_count": 53,
   "id": "5e1a357b",
   "metadata": {},
   "outputs": [],
   "source": [
    "try:\n",
    "    raw_df = pd.read_csv(\"C:\\\\Users\\\\mahen\\\\Downloads\\\\creditcard.csv\")\n",
    "except:\n",
    "    raw_df = pd.read_csv('creditcard.csv')"
   ]
  },
  {
   "cell_type": "markdown",
   "id": "d287c77c",
   "metadata": {},
   "source": [
    "The credit card fraud dataset contains the following columns:\n",
    "\n",
    "1. Time: The time in seconds elapsed between each transaction and the first transaction in the dataset.\n",
    "2. Amount: The transaction amount.\n",
    "3. Class: The target variable, which indicates whether the transaction is fraudulent (1) or not (0).\n",
    "4. V1-V28: These columns contain the principal components obtained with PCA, which are the result of a dimensionality reduction technique that was applied to the original features in order to protect privacy. The original features are not available to the public.\n",
    "5. The V1-V28 columns are the most important columns for credit card fraud detection. They contain information about the transactions that can be used to identify fraudulent transactions. For example, V1-V28 may contain information about the merchant, the location of the transaction, the type of card used, and the time of day the transaction occurred.\n",
    "\n",
    "6. The Time and Amount columns are also important, but they are not as important as the V1-V28 columns. The Time column can be used to identify transactions that occur in a short period of time, which may be indicative of fraud. The Amount column can be used to identify transactions that are unusually large or small, which may also be indicative of fraud.\n",
    "\n",
    "7. The Class column is the target variable, which is the value that we are trying to predict. The Class column indicates whether the transaction is fraudulent (1) or not (0). The goal of credit card fraud detection is to predict the Class column as accurately as possible."
   ]
  },
  {
   "cell_type": "markdown",
   "id": "b445d7d5",
   "metadata": {},
   "source": [
    "##### Before jumping into classification problem statment we need to check which type classification problem statement we are dealing with based on the target feature ,this dataset is imbalanced data for target feature beacuse mostly there are normal transactions ,fradu transctions are less even if we predict the feature outcomes by a trained model it wont be accurate because majority class is normal transactions so model get to know that majority class is normal transactions so it shows favour to that  majority class while we pass the fetature data into model it do return the normal transaction as output if we predict\n",
    "\n"
   ]
  },
  {
   "cell_type": "markdown",
   "id": "43ba6d4d",
   "metadata": {},
   "source": [
    "### DataSet Characteristics\n",
    "\n",
    "#### Context\n",
    "\n",
    "1. It is important that credit card companies are able to recognize fraudulent credit card transactions so that customers are not charged for items that they did not purchase.\n",
    "\n",
    "#### Content\n",
    "\n",
    "1. The dataset contains transactions made by credit cards in September 2013 by European cardholders. This dataset presents transactions that occurred in two days, where we have 492 frauds out of 284,807 transactions. The dataset is highly unbalanced, the positive class (frauds) account for 0.172% of all transactions.\n",
    "\n",
    "2. It contains only numerical input variables which are the result of a PCA transformation. Unfortunately, due to confidentiality issues, we cannot provide the original features and more background information about the data. Features V1, V2, … V28 are the principal components obtained with PCA, the only features which have not been transformed with PCA are 'Time' and 'Amount'. Feature 'Time' contains the seconds elapsed between each transaction and the first transaction in the dataset. The feature 'Amount' is the transaction Amount, this feature can be used for example-dependant cost-sensitive learning. Feature 'Class' is the response variable and it takes value 1 in case of fraud and 0 otherwise."
   ]
  },
  {
   "cell_type": "markdown",
   "id": "64529ba0",
   "metadata": {},
   "source": [
    "### 3.4 Data imbalance check"
   ]
  },
  {
   "cell_type": "code",
   "execution_count": 54,
   "id": "688c44d7",
   "metadata": {},
   "outputs": [
    {
     "data": {
      "application/vnd.plotly.v1+json": {
       "config": {
        "plotlyServerURL": "https://plot.ly"
       },
       "data": [
        {
         "domain": {
          "x": [
           0,
           1
          ],
          "y": [
           0,
           1
          ]
         },
         "hovertemplate": "label=%{label}<br>value=%{value}<extra></extra>",
         "labels": [
          "Genuine",
          "Fraud"
         ],
         "legendgroup": "",
         "name": "",
         "showlegend": true,
         "type": "pie",
         "values": [
          284315,
          492
         ]
        }
       ],
       "layout": {
        "height": 400,
        "legend": {
         "tracegroupgap": 0
        },
        "piecolorway": [
         "skyblue",
         "black"
        ],
        "template": {
         "data": {
          "bar": [
           {
            "error_x": {
             "color": "#2a3f5f"
            },
            "error_y": {
             "color": "#2a3f5f"
            },
            "marker": {
             "line": {
              "color": "#E5ECF6",
              "width": 0.5
             },
             "pattern": {
              "fillmode": "overlay",
              "size": 10,
              "solidity": 0.2
             }
            },
            "type": "bar"
           }
          ],
          "barpolar": [
           {
            "marker": {
             "line": {
              "color": "#E5ECF6",
              "width": 0.5
             },
             "pattern": {
              "fillmode": "overlay",
              "size": 10,
              "solidity": 0.2
             }
            },
            "type": "barpolar"
           }
          ],
          "carpet": [
           {
            "aaxis": {
             "endlinecolor": "#2a3f5f",
             "gridcolor": "white",
             "linecolor": "white",
             "minorgridcolor": "white",
             "startlinecolor": "#2a3f5f"
            },
            "baxis": {
             "endlinecolor": "#2a3f5f",
             "gridcolor": "white",
             "linecolor": "white",
             "minorgridcolor": "white",
             "startlinecolor": "#2a3f5f"
            },
            "type": "carpet"
           }
          ],
          "choropleth": [
           {
            "colorbar": {
             "outlinewidth": 0,
             "ticks": ""
            },
            "type": "choropleth"
           }
          ],
          "contour": [
           {
            "colorbar": {
             "outlinewidth": 0,
             "ticks": ""
            },
            "colorscale": [
             [
              0,
              "#0d0887"
             ],
             [
              0.1111111111111111,
              "#46039f"
             ],
             [
              0.2222222222222222,
              "#7201a8"
             ],
             [
              0.3333333333333333,
              "#9c179e"
             ],
             [
              0.4444444444444444,
              "#bd3786"
             ],
             [
              0.5555555555555556,
              "#d8576b"
             ],
             [
              0.6666666666666666,
              "#ed7953"
             ],
             [
              0.7777777777777778,
              "#fb9f3a"
             ],
             [
              0.8888888888888888,
              "#fdca26"
             ],
             [
              1,
              "#f0f921"
             ]
            ],
            "type": "contour"
           }
          ],
          "contourcarpet": [
           {
            "colorbar": {
             "outlinewidth": 0,
             "ticks": ""
            },
            "type": "contourcarpet"
           }
          ],
          "heatmap": [
           {
            "colorbar": {
             "outlinewidth": 0,
             "ticks": ""
            },
            "colorscale": [
             [
              0,
              "#0d0887"
             ],
             [
              0.1111111111111111,
              "#46039f"
             ],
             [
              0.2222222222222222,
              "#7201a8"
             ],
             [
              0.3333333333333333,
              "#9c179e"
             ],
             [
              0.4444444444444444,
              "#bd3786"
             ],
             [
              0.5555555555555556,
              "#d8576b"
             ],
             [
              0.6666666666666666,
              "#ed7953"
             ],
             [
              0.7777777777777778,
              "#fb9f3a"
             ],
             [
              0.8888888888888888,
              "#fdca26"
             ],
             [
              1,
              "#f0f921"
             ]
            ],
            "type": "heatmap"
           }
          ],
          "heatmapgl": [
           {
            "colorbar": {
             "outlinewidth": 0,
             "ticks": ""
            },
            "colorscale": [
             [
              0,
              "#0d0887"
             ],
             [
              0.1111111111111111,
              "#46039f"
             ],
             [
              0.2222222222222222,
              "#7201a8"
             ],
             [
              0.3333333333333333,
              "#9c179e"
             ],
             [
              0.4444444444444444,
              "#bd3786"
             ],
             [
              0.5555555555555556,
              "#d8576b"
             ],
             [
              0.6666666666666666,
              "#ed7953"
             ],
             [
              0.7777777777777778,
              "#fb9f3a"
             ],
             [
              0.8888888888888888,
              "#fdca26"
             ],
             [
              1,
              "#f0f921"
             ]
            ],
            "type": "heatmapgl"
           }
          ],
          "histogram": [
           {
            "marker": {
             "pattern": {
              "fillmode": "overlay",
              "size": 10,
              "solidity": 0.2
             }
            },
            "type": "histogram"
           }
          ],
          "histogram2d": [
           {
            "colorbar": {
             "outlinewidth": 0,
             "ticks": ""
            },
            "colorscale": [
             [
              0,
              "#0d0887"
             ],
             [
              0.1111111111111111,
              "#46039f"
             ],
             [
              0.2222222222222222,
              "#7201a8"
             ],
             [
              0.3333333333333333,
              "#9c179e"
             ],
             [
              0.4444444444444444,
              "#bd3786"
             ],
             [
              0.5555555555555556,
              "#d8576b"
             ],
             [
              0.6666666666666666,
              "#ed7953"
             ],
             [
              0.7777777777777778,
              "#fb9f3a"
             ],
             [
              0.8888888888888888,
              "#fdca26"
             ],
             [
              1,
              "#f0f921"
             ]
            ],
            "type": "histogram2d"
           }
          ],
          "histogram2dcontour": [
           {
            "colorbar": {
             "outlinewidth": 0,
             "ticks": ""
            },
            "colorscale": [
             [
              0,
              "#0d0887"
             ],
             [
              0.1111111111111111,
              "#46039f"
             ],
             [
              0.2222222222222222,
              "#7201a8"
             ],
             [
              0.3333333333333333,
              "#9c179e"
             ],
             [
              0.4444444444444444,
              "#bd3786"
             ],
             [
              0.5555555555555556,
              "#d8576b"
             ],
             [
              0.6666666666666666,
              "#ed7953"
             ],
             [
              0.7777777777777778,
              "#fb9f3a"
             ],
             [
              0.8888888888888888,
              "#fdca26"
             ],
             [
              1,
              "#f0f921"
             ]
            ],
            "type": "histogram2dcontour"
           }
          ],
          "mesh3d": [
           {
            "colorbar": {
             "outlinewidth": 0,
             "ticks": ""
            },
            "type": "mesh3d"
           }
          ],
          "parcoords": [
           {
            "line": {
             "colorbar": {
              "outlinewidth": 0,
              "ticks": ""
             }
            },
            "type": "parcoords"
           }
          ],
          "pie": [
           {
            "automargin": true,
            "type": "pie"
           }
          ],
          "scatter": [
           {
            "fillpattern": {
             "fillmode": "overlay",
             "size": 10,
             "solidity": 0.2
            },
            "type": "scatter"
           }
          ],
          "scatter3d": [
           {
            "line": {
             "colorbar": {
              "outlinewidth": 0,
              "ticks": ""
             }
            },
            "marker": {
             "colorbar": {
              "outlinewidth": 0,
              "ticks": ""
             }
            },
            "type": "scatter3d"
           }
          ],
          "scattercarpet": [
           {
            "marker": {
             "colorbar": {
              "outlinewidth": 0,
              "ticks": ""
             }
            },
            "type": "scattercarpet"
           }
          ],
          "scattergeo": [
           {
            "marker": {
             "colorbar": {
              "outlinewidth": 0,
              "ticks": ""
             }
            },
            "type": "scattergeo"
           }
          ],
          "scattergl": [
           {
            "marker": {
             "colorbar": {
              "outlinewidth": 0,
              "ticks": ""
             }
            },
            "type": "scattergl"
           }
          ],
          "scattermapbox": [
           {
            "marker": {
             "colorbar": {
              "outlinewidth": 0,
              "ticks": ""
             }
            },
            "type": "scattermapbox"
           }
          ],
          "scatterpolar": [
           {
            "marker": {
             "colorbar": {
              "outlinewidth": 0,
              "ticks": ""
             }
            },
            "type": "scatterpolar"
           }
          ],
          "scatterpolargl": [
           {
            "marker": {
             "colorbar": {
              "outlinewidth": 0,
              "ticks": ""
             }
            },
            "type": "scatterpolargl"
           }
          ],
          "scatterternary": [
           {
            "marker": {
             "colorbar": {
              "outlinewidth": 0,
              "ticks": ""
             }
            },
            "type": "scatterternary"
           }
          ],
          "surface": [
           {
            "colorbar": {
             "outlinewidth": 0,
             "ticks": ""
            },
            "colorscale": [
             [
              0,
              "#0d0887"
             ],
             [
              0.1111111111111111,
              "#46039f"
             ],
             [
              0.2222222222222222,
              "#7201a8"
             ],
             [
              0.3333333333333333,
              "#9c179e"
             ],
             [
              0.4444444444444444,
              "#bd3786"
             ],
             [
              0.5555555555555556,
              "#d8576b"
             ],
             [
              0.6666666666666666,
              "#ed7953"
             ],
             [
              0.7777777777777778,
              "#fb9f3a"
             ],
             [
              0.8888888888888888,
              "#fdca26"
             ],
             [
              1,
              "#f0f921"
             ]
            ],
            "type": "surface"
           }
          ],
          "table": [
           {
            "cells": {
             "fill": {
              "color": "#EBF0F8"
             },
             "line": {
              "color": "white"
             }
            },
            "header": {
             "fill": {
              "color": "#C8D4E3"
             },
             "line": {
              "color": "white"
             }
            },
            "type": "table"
           }
          ]
         },
         "layout": {
          "annotationdefaults": {
           "arrowcolor": "#2a3f5f",
           "arrowhead": 0,
           "arrowwidth": 1
          },
          "autotypenumbers": "strict",
          "coloraxis": {
           "colorbar": {
            "outlinewidth": 0,
            "ticks": ""
           }
          },
          "colorscale": {
           "diverging": [
            [
             0,
             "#8e0152"
            ],
            [
             0.1,
             "#c51b7d"
            ],
            [
             0.2,
             "#de77ae"
            ],
            [
             0.3,
             "#f1b6da"
            ],
            [
             0.4,
             "#fde0ef"
            ],
            [
             0.5,
             "#f7f7f7"
            ],
            [
             0.6,
             "#e6f5d0"
            ],
            [
             0.7,
             "#b8e186"
            ],
            [
             0.8,
             "#7fbc41"
            ],
            [
             0.9,
             "#4d9221"
            ],
            [
             1,
             "#276419"
            ]
           ],
           "sequential": [
            [
             0,
             "#0d0887"
            ],
            [
             0.1111111111111111,
             "#46039f"
            ],
            [
             0.2222222222222222,
             "#7201a8"
            ],
            [
             0.3333333333333333,
             "#9c179e"
            ],
            [
             0.4444444444444444,
             "#bd3786"
            ],
            [
             0.5555555555555556,
             "#d8576b"
            ],
            [
             0.6666666666666666,
             "#ed7953"
            ],
            [
             0.7777777777777778,
             "#fb9f3a"
            ],
            [
             0.8888888888888888,
             "#fdca26"
            ],
            [
             1,
             "#f0f921"
            ]
           ],
           "sequentialminus": [
            [
             0,
             "#0d0887"
            ],
            [
             0.1111111111111111,
             "#46039f"
            ],
            [
             0.2222222222222222,
             "#7201a8"
            ],
            [
             0.3333333333333333,
             "#9c179e"
            ],
            [
             0.4444444444444444,
             "#bd3786"
            ],
            [
             0.5555555555555556,
             "#d8576b"
            ],
            [
             0.6666666666666666,
             "#ed7953"
            ],
            [
             0.7777777777777778,
             "#fb9f3a"
            ],
            [
             0.8888888888888888,
             "#fdca26"
            ],
            [
             1,
             "#f0f921"
            ]
           ]
          },
          "colorway": [
           "#636efa",
           "#EF553B",
           "#00cc96",
           "#ab63fa",
           "#FFA15A",
           "#19d3f3",
           "#FF6692",
           "#B6E880",
           "#FF97FF",
           "#FECB52"
          ],
          "font": {
           "color": "#2a3f5f"
          },
          "geo": {
           "bgcolor": "white",
           "lakecolor": "white",
           "landcolor": "#E5ECF6",
           "showlakes": true,
           "showland": true,
           "subunitcolor": "white"
          },
          "hoverlabel": {
           "align": "left"
          },
          "hovermode": "closest",
          "mapbox": {
           "style": "light"
          },
          "paper_bgcolor": "white",
          "plot_bgcolor": "#E5ECF6",
          "polar": {
           "angularaxis": {
            "gridcolor": "white",
            "linecolor": "white",
            "ticks": ""
           },
           "bgcolor": "#E5ECF6",
           "radialaxis": {
            "gridcolor": "white",
            "linecolor": "white",
            "ticks": ""
           }
          },
          "scene": {
           "xaxis": {
            "backgroundcolor": "#E5ECF6",
            "gridcolor": "white",
            "gridwidth": 2,
            "linecolor": "white",
            "showbackground": true,
            "ticks": "",
            "zerolinecolor": "white"
           },
           "yaxis": {
            "backgroundcolor": "#E5ECF6",
            "gridcolor": "white",
            "gridwidth": 2,
            "linecolor": "white",
            "showbackground": true,
            "ticks": "",
            "zerolinecolor": "white"
           },
           "zaxis": {
            "backgroundcolor": "#E5ECF6",
            "gridcolor": "white",
            "gridwidth": 2,
            "linecolor": "white",
            "showbackground": true,
            "ticks": "",
            "zerolinecolor": "white"
           }
          },
          "shapedefaults": {
           "line": {
            "color": "#2a3f5f"
           }
          },
          "ternary": {
           "aaxis": {
            "gridcolor": "white",
            "linecolor": "white",
            "ticks": ""
           },
           "baxis": {
            "gridcolor": "white",
            "linecolor": "white",
            "ticks": ""
           },
           "bgcolor": "#E5ECF6",
           "caxis": {
            "gridcolor": "white",
            "linecolor": "white",
            "ticks": ""
           }
          },
          "title": {
           "x": 0.05
          },
          "xaxis": {
           "automargin": true,
           "gridcolor": "white",
           "linecolor": "white",
           "ticks": "",
           "title": {
            "standoff": 15
           },
           "zerolinecolor": "white",
           "zerolinewidth": 2
          },
          "yaxis": {
           "automargin": true,
           "gridcolor": "white",
           "linecolor": "white",
           "ticks": "",
           "title": {
            "standoff": 15
           },
           "zerolinecolor": "white",
           "zerolinewidth": 2
          }
         }
        },
        "title": {
         "text": "Fraud vs Genuine transactions"
        },
        "width": 700
       }
      },
      "text/html": [
       "<div>                            <div id=\"f10f9168-bad3-4d7c-9190-49afe13dcdc9\" class=\"plotly-graph-div\" style=\"height:400px; width:700px;\"></div>            <script type=\"text/javascript\">                require([\"plotly\"], function(Plotly) {                    window.PLOTLYENV=window.PLOTLYENV || {};                                    if (document.getElementById(\"f10f9168-bad3-4d7c-9190-49afe13dcdc9\")) {                    Plotly.newPlot(                        \"f10f9168-bad3-4d7c-9190-49afe13dcdc9\",                        [{\"domain\":{\"x\":[0.0,1.0],\"y\":[0.0,1.0]},\"hovertemplate\":\"label=%{label}<br>value=%{value}<extra></extra>\",\"labels\":[\"Genuine\",\"Fraud\"],\"legendgroup\":\"\",\"name\":\"\",\"showlegend\":true,\"values\":[284315,492],\"type\":\"pie\"}],                        {\"template\":{\"data\":{\"histogram2dcontour\":[{\"type\":\"histogram2dcontour\",\"colorbar\":{\"outlinewidth\":0,\"ticks\":\"\"},\"colorscale\":[[0.0,\"#0d0887\"],[0.1111111111111111,\"#46039f\"],[0.2222222222222222,\"#7201a8\"],[0.3333333333333333,\"#9c179e\"],[0.4444444444444444,\"#bd3786\"],[0.5555555555555556,\"#d8576b\"],[0.6666666666666666,\"#ed7953\"],[0.7777777777777778,\"#fb9f3a\"],[0.8888888888888888,\"#fdca26\"],[1.0,\"#f0f921\"]]}],\"choropleth\":[{\"type\":\"choropleth\",\"colorbar\":{\"outlinewidth\":0,\"ticks\":\"\"}}],\"histogram2d\":[{\"type\":\"histogram2d\",\"colorbar\":{\"outlinewidth\":0,\"ticks\":\"\"},\"colorscale\":[[0.0,\"#0d0887\"],[0.1111111111111111,\"#46039f\"],[0.2222222222222222,\"#7201a8\"],[0.3333333333333333,\"#9c179e\"],[0.4444444444444444,\"#bd3786\"],[0.5555555555555556,\"#d8576b\"],[0.6666666666666666,\"#ed7953\"],[0.7777777777777778,\"#fb9f3a\"],[0.8888888888888888,\"#fdca26\"],[1.0,\"#f0f921\"]]}],\"heatmap\":[{\"type\":\"heatmap\",\"colorbar\":{\"outlinewidth\":0,\"ticks\":\"\"},\"colorscale\":[[0.0,\"#0d0887\"],[0.1111111111111111,\"#46039f\"],[0.2222222222222222,\"#7201a8\"],[0.3333333333333333,\"#9c179e\"],[0.4444444444444444,\"#bd3786\"],[0.5555555555555556,\"#d8576b\"],[0.6666666666666666,\"#ed7953\"],[0.7777777777777778,\"#fb9f3a\"],[0.8888888888888888,\"#fdca26\"],[1.0,\"#f0f921\"]]}],\"heatmapgl\":[{\"type\":\"heatmapgl\",\"colorbar\":{\"outlinewidth\":0,\"ticks\":\"\"},\"colorscale\":[[0.0,\"#0d0887\"],[0.1111111111111111,\"#46039f\"],[0.2222222222222222,\"#7201a8\"],[0.3333333333333333,\"#9c179e\"],[0.4444444444444444,\"#bd3786\"],[0.5555555555555556,\"#d8576b\"],[0.6666666666666666,\"#ed7953\"],[0.7777777777777778,\"#fb9f3a\"],[0.8888888888888888,\"#fdca26\"],[1.0,\"#f0f921\"]]}],\"contourcarpet\":[{\"type\":\"contourcarpet\",\"colorbar\":{\"outlinewidth\":0,\"ticks\":\"\"}}],\"contour\":[{\"type\":\"contour\",\"colorbar\":{\"outlinewidth\":0,\"ticks\":\"\"},\"colorscale\":[[0.0,\"#0d0887\"],[0.1111111111111111,\"#46039f\"],[0.2222222222222222,\"#7201a8\"],[0.3333333333333333,\"#9c179e\"],[0.4444444444444444,\"#bd3786\"],[0.5555555555555556,\"#d8576b\"],[0.6666666666666666,\"#ed7953\"],[0.7777777777777778,\"#fb9f3a\"],[0.8888888888888888,\"#fdca26\"],[1.0,\"#f0f921\"]]}],\"surface\":[{\"type\":\"surface\",\"colorbar\":{\"outlinewidth\":0,\"ticks\":\"\"},\"colorscale\":[[0.0,\"#0d0887\"],[0.1111111111111111,\"#46039f\"],[0.2222222222222222,\"#7201a8\"],[0.3333333333333333,\"#9c179e\"],[0.4444444444444444,\"#bd3786\"],[0.5555555555555556,\"#d8576b\"],[0.6666666666666666,\"#ed7953\"],[0.7777777777777778,\"#fb9f3a\"],[0.8888888888888888,\"#fdca26\"],[1.0,\"#f0f921\"]]}],\"mesh3d\":[{\"type\":\"mesh3d\",\"colorbar\":{\"outlinewidth\":0,\"ticks\":\"\"}}],\"scatter\":[{\"fillpattern\":{\"fillmode\":\"overlay\",\"size\":10,\"solidity\":0.2},\"type\":\"scatter\"}],\"parcoords\":[{\"type\":\"parcoords\",\"line\":{\"colorbar\":{\"outlinewidth\":0,\"ticks\":\"\"}}}],\"scatterpolargl\":[{\"type\":\"scatterpolargl\",\"marker\":{\"colorbar\":{\"outlinewidth\":0,\"ticks\":\"\"}}}],\"bar\":[{\"error_x\":{\"color\":\"#2a3f5f\"},\"error_y\":{\"color\":\"#2a3f5f\"},\"marker\":{\"line\":{\"color\":\"#E5ECF6\",\"width\":0.5},\"pattern\":{\"fillmode\":\"overlay\",\"size\":10,\"solidity\":0.2}},\"type\":\"bar\"}],\"scattergeo\":[{\"type\":\"scattergeo\",\"marker\":{\"colorbar\":{\"outlinewidth\":0,\"ticks\":\"\"}}}],\"scatterpolar\":[{\"type\":\"scatterpolar\",\"marker\":{\"colorbar\":{\"outlinewidth\":0,\"ticks\":\"\"}}}],\"histogram\":[{\"marker\":{\"pattern\":{\"fillmode\":\"overlay\",\"size\":10,\"solidity\":0.2}},\"type\":\"histogram\"}],\"scattergl\":[{\"type\":\"scattergl\",\"marker\":{\"colorbar\":{\"outlinewidth\":0,\"ticks\":\"\"}}}],\"scatter3d\":[{\"type\":\"scatter3d\",\"line\":{\"colorbar\":{\"outlinewidth\":0,\"ticks\":\"\"}},\"marker\":{\"colorbar\":{\"outlinewidth\":0,\"ticks\":\"\"}}}],\"scattermapbox\":[{\"type\":\"scattermapbox\",\"marker\":{\"colorbar\":{\"outlinewidth\":0,\"ticks\":\"\"}}}],\"scatterternary\":[{\"type\":\"scatterternary\",\"marker\":{\"colorbar\":{\"outlinewidth\":0,\"ticks\":\"\"}}}],\"scattercarpet\":[{\"type\":\"scattercarpet\",\"marker\":{\"colorbar\":{\"outlinewidth\":0,\"ticks\":\"\"}}}],\"carpet\":[{\"aaxis\":{\"endlinecolor\":\"#2a3f5f\",\"gridcolor\":\"white\",\"linecolor\":\"white\",\"minorgridcolor\":\"white\",\"startlinecolor\":\"#2a3f5f\"},\"baxis\":{\"endlinecolor\":\"#2a3f5f\",\"gridcolor\":\"white\",\"linecolor\":\"white\",\"minorgridcolor\":\"white\",\"startlinecolor\":\"#2a3f5f\"},\"type\":\"carpet\"}],\"table\":[{\"cells\":{\"fill\":{\"color\":\"#EBF0F8\"},\"line\":{\"color\":\"white\"}},\"header\":{\"fill\":{\"color\":\"#C8D4E3\"},\"line\":{\"color\":\"white\"}},\"type\":\"table\"}],\"barpolar\":[{\"marker\":{\"line\":{\"color\":\"#E5ECF6\",\"width\":0.5},\"pattern\":{\"fillmode\":\"overlay\",\"size\":10,\"solidity\":0.2}},\"type\":\"barpolar\"}],\"pie\":[{\"automargin\":true,\"type\":\"pie\"}]},\"layout\":{\"autotypenumbers\":\"strict\",\"colorway\":[\"#636efa\",\"#EF553B\",\"#00cc96\",\"#ab63fa\",\"#FFA15A\",\"#19d3f3\",\"#FF6692\",\"#B6E880\",\"#FF97FF\",\"#FECB52\"],\"font\":{\"color\":\"#2a3f5f\"},\"hovermode\":\"closest\",\"hoverlabel\":{\"align\":\"left\"},\"paper_bgcolor\":\"white\",\"plot_bgcolor\":\"#E5ECF6\",\"polar\":{\"bgcolor\":\"#E5ECF6\",\"angularaxis\":{\"gridcolor\":\"white\",\"linecolor\":\"white\",\"ticks\":\"\"},\"radialaxis\":{\"gridcolor\":\"white\",\"linecolor\":\"white\",\"ticks\":\"\"}},\"ternary\":{\"bgcolor\":\"#E5ECF6\",\"aaxis\":{\"gridcolor\":\"white\",\"linecolor\":\"white\",\"ticks\":\"\"},\"baxis\":{\"gridcolor\":\"white\",\"linecolor\":\"white\",\"ticks\":\"\"},\"caxis\":{\"gridcolor\":\"white\",\"linecolor\":\"white\",\"ticks\":\"\"}},\"coloraxis\":{\"colorbar\":{\"outlinewidth\":0,\"ticks\":\"\"}},\"colorscale\":{\"sequential\":[[0.0,\"#0d0887\"],[0.1111111111111111,\"#46039f\"],[0.2222222222222222,\"#7201a8\"],[0.3333333333333333,\"#9c179e\"],[0.4444444444444444,\"#bd3786\"],[0.5555555555555556,\"#d8576b\"],[0.6666666666666666,\"#ed7953\"],[0.7777777777777778,\"#fb9f3a\"],[0.8888888888888888,\"#fdca26\"],[1.0,\"#f0f921\"]],\"sequentialminus\":[[0.0,\"#0d0887\"],[0.1111111111111111,\"#46039f\"],[0.2222222222222222,\"#7201a8\"],[0.3333333333333333,\"#9c179e\"],[0.4444444444444444,\"#bd3786\"],[0.5555555555555556,\"#d8576b\"],[0.6666666666666666,\"#ed7953\"],[0.7777777777777778,\"#fb9f3a\"],[0.8888888888888888,\"#fdca26\"],[1.0,\"#f0f921\"]],\"diverging\":[[0,\"#8e0152\"],[0.1,\"#c51b7d\"],[0.2,\"#de77ae\"],[0.3,\"#f1b6da\"],[0.4,\"#fde0ef\"],[0.5,\"#f7f7f7\"],[0.6,\"#e6f5d0\"],[0.7,\"#b8e186\"],[0.8,\"#7fbc41\"],[0.9,\"#4d9221\"],[1,\"#276419\"]]},\"xaxis\":{\"gridcolor\":\"white\",\"linecolor\":\"white\",\"ticks\":\"\",\"title\":{\"standoff\":15},\"zerolinecolor\":\"white\",\"automargin\":true,\"zerolinewidth\":2},\"yaxis\":{\"gridcolor\":\"white\",\"linecolor\":\"white\",\"ticks\":\"\",\"title\":{\"standoff\":15},\"zerolinecolor\":\"white\",\"automargin\":true,\"zerolinewidth\":2},\"scene\":{\"xaxis\":{\"backgroundcolor\":\"#E5ECF6\",\"gridcolor\":\"white\",\"linecolor\":\"white\",\"showbackground\":true,\"ticks\":\"\",\"zerolinecolor\":\"white\",\"gridwidth\":2},\"yaxis\":{\"backgroundcolor\":\"#E5ECF6\",\"gridcolor\":\"white\",\"linecolor\":\"white\",\"showbackground\":true,\"ticks\":\"\",\"zerolinecolor\":\"white\",\"gridwidth\":2},\"zaxis\":{\"backgroundcolor\":\"#E5ECF6\",\"gridcolor\":\"white\",\"linecolor\":\"white\",\"showbackground\":true,\"ticks\":\"\",\"zerolinecolor\":\"white\",\"gridwidth\":2}},\"shapedefaults\":{\"line\":{\"color\":\"#2a3f5f\"}},\"annotationdefaults\":{\"arrowcolor\":\"#2a3f5f\",\"arrowhead\":0,\"arrowwidth\":1},\"geo\":{\"bgcolor\":\"white\",\"landcolor\":\"#E5ECF6\",\"subunitcolor\":\"white\",\"showland\":true,\"showlakes\":true,\"lakecolor\":\"white\"},\"title\":{\"x\":0.05},\"mapbox\":{\"style\":\"light\"}}},\"legend\":{\"tracegroupgap\":0},\"title\":{\"text\":\"Fraud vs Genuine transactions\"},\"piecolorway\":[\"skyblue\",\"black\"],\"height\":400,\"width\":700},                        {\"responsive\": true}                    ).then(function(){\n",
       "                            \n",
       "var gd = document.getElementById('f10f9168-bad3-4d7c-9190-49afe13dcdc9');\n",
       "var x = new MutationObserver(function (mutations, observer) {{\n",
       "        var display = window.getComputedStyle(gd).display;\n",
       "        if (!display || display === 'none') {{\n",
       "            console.log([gd, 'removed!']);\n",
       "            Plotly.purge(gd);\n",
       "            observer.disconnect();\n",
       "        }}\n",
       "}});\n",
       "\n",
       "// Listen for the removal of the full notebook cells\n",
       "var notebookContainer = gd.closest('#notebook-container');\n",
       "if (notebookContainer) {{\n",
       "    x.observe(notebookContainer, {childList: true});\n",
       "}}\n",
       "\n",
       "// Listen for the clearing of the current output cell\n",
       "var outputEl = gd.closest('.output');\n",
       "if (outputEl) {{\n",
       "    x.observe(outputEl, {childList: true});\n",
       "}}\n",
       "\n",
       "                        })                };                });            </script>        </div>"
      ]
     },
     "metadata": {},
     "output_type": "display_data"
    }
   ],
   "source": [
    "labels=[\"Genuine\",\"Fraud\"]\n",
    "\n",
    "fraud_or_not = raw_df[\"Class\"].value_counts().tolist()\n",
    "values = [fraud_or_not[0], fraud_or_not[1]]\n",
    "\n",
    "fig = px.pie(values=raw_df['Class'].value_counts(), names=labels , width=700, height=400, color_discrete_sequence=[\"skyblue\",\"black\"]\n",
    "             ,title=\"Fraud vs Genuine transactions\")\n",
    "fig.show()"
   ]
  },
  {
   "cell_type": "markdown",
   "id": "1578f572",
   "metadata": {},
   "source": [
    "observation\n",
    "1. By this we can say our target feature is imbalance because in the target feature majority of them are Genuine transactions are  and minority  them are fraud transactions so for this we use imbalance classification model"
   ]
  },
  {
   "cell_type": "code",
   "execution_count": 55,
   "id": "425df41a",
   "metadata": {},
   "outputs": [
    {
     "data": {
      "image/png": "[encoded data removed]",
      "text/plain": [
       "<Figure size 300x400 with 1 Axes>"
      ]
     },
     "metadata": {},
     "output_type": "display_data"
    }
   ],
   "source": [
    "plt.figure(figsize=(3,4))\n",
    "ax = sns.countplot(x='Class',data=raw_df,palette=\"pastel\")\n",
    "for i in ax.containers:\n",
    "    ax.bar_label(i,)"
   ]
  },
  {
   "cell_type": "markdown",
   "id": "ca5d9862",
   "metadata": {},
   "source": [
    "observation\n",
    "1. In the Target feature\n",
    "1. there are 284315 genuine transactions are there \n",
    "2. there are 492 fraud tranactions are there\n"
   ]
  },
  {
   "cell_type": "code",
   "execution_count": 56,
   "id": "83f0f4f3",
   "metadata": {},
   "outputs": [
    {
     "name": "stdout",
     "output_type": "stream",
     "text": [
      "Genuine: 99.83 % of the dataset\n",
      "Frauds: 0.17 % of the dataset\n"
     ]
    }
   ],
   "source": [
    "print('Genuine:', round(raw_df['Class'].value_counts()[0]/len(raw_df) * 100,2), '% of the dataset')\n",
    "print('Frauds:', round(raw_df['Class'].value_counts()[1]/len(raw_df) * 100,2), '% of the dataset')"
   ]
  },
  {
   "cell_type": "markdown",
   "id": "5d14685d",
   "metadata": {},
   "source": [
    "### 3.5 99.8% Accuracy score before implementing any model\n",
    "\n",
    "Don't use accuracy score as a metric with imbalanced datasets - it will be usually high and misleading. In this dataset:\n",
    "\n",
    "we have 99.8% of Genuine transactions and only 0.173% (492) of fraud transactions;\n",
    "\n",
    "whis means that a blind guess (bet on Genuine) would give us accuracy of 99.8%"
   ]
  },
  {
   "cell_type": "markdown",
   "id": "24030b1a",
   "metadata": {},
   "source": [
    "### 4. Data pre-processing\n",
    "The description of the data says that all the features went through a PCA transformation (Dimensionality Reduction technique) except for 'time' and 'Amount'.\n",
    "\n",
    "For PCA features need to be previously scaled so we can assume that they are (except for 'time' and 'Amount')."
   ]
  },
  {
   "cell_type": "markdown",
   "id": "ef36c8d8",
   "metadata": {},
   "source": [
    "### 4.1 Dropping duplicated values"
   ]
  },
  {
   "cell_type": "code",
   "execution_count": 57,
   "id": "d8efe4a1",
   "metadata": {},
   "outputs": [
    {
     "name": "stdout",
     "output_type": "stream",
     "text": [
      "Duplicated values dropped succesfully\n",
      "****************************************************************************************************\n"
     ]
    }
   ],
   "source": [
    "df = raw_df.copy() # # The code you provided first creates a copy of the DataFrame df and assigns it to the variable df1. This is important because we want to make sure that we are not modifying the original DataFrame.\n",
    "\n",
    "df.drop_duplicates(inplace=True)\n",
    "print(\"Duplicated values dropped succesfully\")\n",
    "print(\"*\" * 100) # # This prints 100 asterisks to separate the output from the code.\n"
   ]
  },
  {
   "cell_type": "code",
   "execution_count": 58,
   "id": "d3888491",
   "metadata": {},
   "outputs": [],
   "source": [
    "df = df.drop('Time', axis=1)"
   ]
  },
  {
   "cell_type": "markdown",
   "id": "411dff3b",
   "metadata": {},
   "source": [
    "### 4.2 Why we shouldn't delete outliers in this case"
   ]
  },
  {
   "cell_type": "markdown",
   "id": "eda1c639",
   "metadata": {},
   "source": [
    "#### 4.2.1 Checking for outliers"
   ]
  },
  {
   "cell_type": "code",
   "execution_count": 59,
   "id": "d8988ecd",
   "metadata": {},
   "outputs": [],
   "source": [
    "numeric_columns = (list(df.loc[:, 'V1':'Amount'])) # so here we are selecting only the numeric columns \n"
   ]
  },
  {
   "cell_type": "code",
   "execution_count": 60,
   "id": "5a27eaf4",
   "metadata": {},
   "outputs": [
    {
     "data": {
      "image/png": "[encoded data removed]",
      "text/plain": [
       "<Figure size 1600x2500 with 30 Axes>"
      ]
     },
     "metadata": {},
     "output_type": "display_data"
    }
   ],
   "source": [
    "# checking boxplots\n",
    "def boxplots_custom(dataset, columns_list, rows, cols, suptitle):\n",
    "    fig, axs = plt.subplots(rows, cols, sharey=True, figsize=(16,25))\n",
    "    fig.suptitle(suptitle,y=1, size=25)\n",
    "    axs = axs.flatten()\n",
    "    for i, data in enumerate(columns_list):\n",
    "        sns.boxplot(data=dataset[data], orient='h', ax=axs[i])\n",
    "        axs[i].set_title(data + ', skewness is: '+str(round(dataset[data].skew(axis = 0, skipna = True),2)))\n",
    "        \n",
    "boxplots_custom(dataset=df, columns_list=numeric_columns, rows=10, cols=3, suptitle='Boxplots for each variable')\n",
    "plt.tight_layout()"
   ]
  },
  {
   "cell_type": "markdown",
   "id": "a9461d66",
   "metadata": {},
   "source": [
    "### 4.2.2 Inter Quartile Range (IQR)"
   ]
  },
  {
   "cell_type": "markdown",
   "id": "6f7c1fdb",
   "metadata": {},
   "source": [
    "We have a significant problems with outliers:\n",
    "\n",
    " . huge outliers;\n",
    "\n",
    " . higly skeved data;\n",
    "\n",
    " . a lot of outliers.\n",
    "\n",
    "Tukey’s (1977) technique is used to detect outliers in skewed or non bell-shaped data since it makes no distributional assumptions. However, Tukey’s method may not be appropriate for a small sample size. The general rule is that anything not in the range of (Q1 - 1.5 IQR) and (Q3 + 1.5 IQR) is an outlier, and can be removed.\n",
    "\n",
    "Inter Quartile Range (IQR) is one of the most extensively used procedure for outlier detection and removal.\n",
    "\n",
    "Procedure:\n",
    "\n",
    "1. Find the first quartile, Q1.\n",
    "2. Find the third quartile, Q3.\n",
    "3. Calculate the IQR. IQR = Q3-Q1.\n",
    "4. Define the normal data range with lower limit as Q1–1.5 IQR and upper limit as Q3+1.5 IQR."
   ]
  },
  {
   "cell_type": "code",
   "execution_count": 61,
   "id": "f7803ece",
   "metadata": {},
   "outputs": [],
   "source": [
    "def IQR_method (df,n,features):\n",
    "    \"\"\"\n",
    "    Takes a dataframe and returns an index list corresponding to the observations \n",
    "    containing more than n outliers according to the Tukey IQR method.\n",
    "    \"\"\"\n",
    "    outlier_list = []\n",
    "    \n",
    "    for column in features:\n",
    "        # 1st quartile (25%)\n",
    "        Q1 = np.percentile(df[column], 25)\n",
    "        # 3rd quartile (75%)\n",
    "        Q3 = np.percentile(df[column],75)\n",
    "        # Interquartile range (IQR)\n",
    "        IQR = Q3 - Q1\n",
    "        # outlier step\n",
    "        outlier_step = 1.5 * IQR\n",
    "        # Determining a list of indices of outliers\n",
    "        outlier_list_column = df[(df[column] < Q1 - outlier_step) | (df[column] > Q3 + outlier_step )].index\n",
    "        # appending the list of outliers \n",
    "        outlier_list.extend(outlier_list_column)\n",
    "        \n",
    "    # selecting observations containing more than x outliers\n",
    "    outlier_list = Counter(outlier_list)   # # The first line, outlier_list = Counter(outlier_list), converts the outlier_list list to a dictionary, where the keys are the indices of the outliers and the values are the number of times each outlier appears in the list. The second line, multiple_outliers = list( k for k, v in outlier_list.items() if v > n ), creates a list of the indices of the outliers that appear more than n times in the outlier_list list. Let's break it down step-by-step: The Counter() function counts the number of times each element appears in a list. In this case, the list is outlier_list, which contains the indices of the outliers. The items() method returns a list of tuples, where each tuple contains the key and value of a dictionary. In this case, the dictionary is outlier_list, and the tuples contain the index of an outlier and the number of times it appears in the list. The if statement checks if the value of each tuple is greater than n. If it is, the index of the outlier is added to the multiple_outliers list. The multiple_outliers list will contain the indices of the outliers that appear more than n times in the dataset. This information can be used to identify observations that contain multiple outliers, which may require further investigation.           \n",
    "    multiple_outliers = list( k for k, v in outlier_list.items() if v > n )# # here \"n\" means In the code you provided, n is the number of outliers that are considered to be a multiple outlier. For example, if n is set to 2, then any observation that contains more than 2 outliers will be considered a multiple outlier. The n parameter can be used to control the sensitivity of the outlier detection algorithm. A lower value of n will result in more observations being classified as multiple outliers, while a higher value of n will result in fewer observations being classified as multiple outliers\n",
    "    \n",
    "    # Calculate the number of records below and above lower and above bound value respectively\n",
    "    out1 = df[df[column] < Q1 - outlier_step]\n",
    "    out2 = df[df[column] > Q3 + outlier_step]\n",
    "    \n",
    "    print('Total number of deleted outliers is:', out1.shape[0]+out2.shape[0])\n",
    "    \n",
    "    return multiple_outliers\n"
   ]
  },
  {
   "cell_type": "code",
   "execution_count": 62,
   "id": "e18536ac",
   "metadata": {},
   "outputs": [
    {
     "name": "stdout",
     "output_type": "stream",
     "text": [
      "Total number of deleted outliers is: 31685\n"
     ]
    }
   ],
   "source": [
    "# detecting outliers\n",
    "Outliers_IQR = IQR_method(df,1,numeric_columns)\n",
    "\n",
    "# dropping outliers\n",
    "df_out = df.drop(Outliers_IQR, axis = 0).reset_index(drop=True)"
   ]
  },
  {
   "cell_type": "markdown",
   "id": "971d5031",
   "metadata": {},
   "source": [
    "### 4.2.3 Conclusion - very important!"
   ]
  },
  {
   "cell_type": "code",
   "execution_count": 63,
   "id": "2f19abca",
   "metadata": {},
   "outputs": [
    {
     "data": {
      "image/png": "[encoded data removed]",
      "text/plain": [
       "<Figure size 300x400 with 1 Axes>"
      ]
     },
     "metadata": {},
     "output_type": "display_data"
    }
   ],
   "source": [
    "plt.figure(figsize=(3,4))\n",
    "ax = sns.countplot(x='Class',data=df_out,palette=\"pastel\")\n",
    "for i in ax.containers:\n",
    "    ax.bar_label(i,)"
   ]
  },
  {
   "cell_type": "markdown",
   "id": "042afcbf",
   "metadata": {},
   "source": [
    "We stayed with only 26 fraud transactions in entire data frame!\n",
    "\n",
    "We deleted almost all fraud transactions from a dataframe!"
   ]
  },
  {
   "cell_type": "markdown",
   "id": "4fc96b2a",
   "metadata": {},
   "source": [
    "### 5. Train test split - you could have been splitting your dataset all wrong"
   ]
  },
  {
   "cell_type": "markdown",
   "id": "4c168b22",
   "metadata": {},
   "source": [
    "Stratified splitting means that when you generate a training / validation dataset split, it will attempt to keep the same percentages of classes in each split.\n",
    "\n",
    "These dataset divisions are usually generated randomly according to a target variable. However, when doing so, the proportions of the target variable among the different splits can differ, especially in the case of small datasets."
   ]
  },
  {
   "cell_type": "code",
   "execution_count": 64,
   "id": "46462ccd",
   "metadata": {},
   "outputs": [],
   "source": [
    "X = df.drop('Class', axis=1)\n",
    "y = df['Class']"
   ]
  },
  {
   "cell_type": "code",
   "execution_count": 65,
   "id": "cc81e3ce",
   "metadata": {},
   "outputs": [],
   "source": [
    "from sklearn.model_selection import train_test_split\n",
    "X_train, X_test, y_train, y_test = train_test_split(X, y, stratify=y, test_size = 0.3, random_state = 42)"
   ]
  },
  {
   "cell_type": "markdown",
   "id": "96ed9217",
   "metadata": {},
   "source": [
    "### 5.2 Oversample/undersample before or after splitting data?\n",
    "The rule of thumb is: never mess up with your test set. Always split into test and train sets BEFORE trying oversampling/undersampling techniques!\n",
    "\n",
    "Oversampling before splitting the data can allow the exact same observations to be present in both the test and train sets. This can allow model to simply memorize specific data points and cause overfitting and poor generalization to the test data. Data leakage can cause you to create overly optimistic if not completely invalid predictive models."
   ]
  },
  {
   "cell_type": "markdown",
   "id": "4bc07036",
   "metadata": {},
   "source": [
    "### 6. Feature scaling"
   ]
  },
  {
   "cell_type": "code",
   "execution_count": 66,
   "id": "97642840",
   "metadata": {},
   "outputs": [],
   "source": [
    "from sklearn.preprocessing import StandardScaler\n",
    "\n",
    "# Creating function for scaling\n",
    "def Standard_Scaler (df, col_names):\n",
    "    features = df[col_names]\n",
    "    scaler = StandardScaler().fit(features.values)\n",
    "    features = scaler.transform(features.values)\n",
    "    df[col_names] = features\n",
    "    \n",
    "    return df"
   ]
  },
  {
   "cell_type": "code",
   "execution_count": 67,
   "id": "bf02fd3b",
   "metadata": {},
   "outputs": [],
   "source": [
    "col_names = ['Amount']\n",
    "X_train = Standard_Scaler (X_train, col_names)\n",
    "X_test = Standard_Scaler (X_test, col_names)"
   ]
  },
  {
   "cell_type": "code",
   "execution_count": null,
   "id": "55628432",
   "metadata": {},
   "outputs": [],
   "source": []
  },
  {
   "cell_type": "markdown",
   "id": "828cbedd",
   "metadata": {},
   "source": [
    "### 7. Baseline (no oversampling)\n",
    "#### 7.1 Cross-validation\n",
    "The best model is not the one that gives accurate predictions on the training data, but the one which gives good predictions on the new data and avoids overfitting and underfitting.\n",
    "\n",
    "Cross-validation is a resampling procedure used to evaluate machine learning models on a limited data sample. The procedure has a single parameter called k that refers to the number of groups that a given data sample is to be split into. As such, the procedure is often called k-fold cross-validation.\n",
    "\n",
    "The purpose of cross–validation is to test the ability of a machine learning model to predict new data.\n",
    "\n",
    "\n",
    "### 7.3 Oversample/undersample and Cross Validation\n",
    "If you want to undersample or oversample your data you shouldn't do it before cross validating because you will be directly influencing the validation set before implementing cross-validation causing a \"data leakage\" problem.\n",
    "\n",
    "Exactly like we should do feature selection inside the cross validation loop, we should also oversample inside the loop.\n",
    "\n",
    "Oversampling and undersampling are techniques used to address class imbalance in a dataset, where one class has significantly fewer instances than another. Oversampling involves creating additional instances of the minority class, while undersampling involves reducing instances of the majority class. These techniques are often used to improve the performance of machine learning models on imbalanced datasets.\n",
    "\n",
    "Cross-validation is a technique used to assess the performance of a machine learning model. It involves splitting the dataset into multiple subsets (folds), training the model on some folds, and testing it on the remaining fold. This process is repeated several times, with each fold being used as the test set exactly once. Cross-validation helps to provide a more robust estimate of a model's performance by reducing the impact of variations in data distribution.\n",
    "\n",
    "The key idea here is that when you're making decisions about how to preprocess your data (such as oversampling or undersampling) and you do this before cross-validation, you risk introducing \"data leakage\" into your evaluation process. Data leakage occurs when information from the test/validation set is inadvertently used during model training, leading to overly optimistic performance estimates that may not generalize well to new, unseen data.\n",
    "\n",
    "Here's why you should perform oversampling or undersampling within the cross-validation loop:\n",
    "\n",
    "Preserving Data Separation: If you perform data preprocessing (such as oversampling or undersampling) before splitting your data into folds for cross-validation, you might end up having the same instances in both the training and validation sets. This could lead to overfitting and overly optimistic performance estimates because the model has already seen similar instances during training.\n",
    "\n",
    "Generalization: When you perform oversampling or undersampling inside the cross-validation loop, you ensure that each fold's training and validation sets are derived from the original data distribution. This allows the model to learn from the actual data distribution and make more accurate predictions on unseen data.\n",
    "\n",
    "Unbiased Performance Estimates: By performing data preprocessing within the cross-validation loop, you obtain performance estimates that are less prone to overestimation or underestimation of the model's capabilities. This helps you make more reliable decisions about the model's performance on new data.\n",
    "\n",
    "In summary, to avoid data leakage and ensure that your cross-validation process accurately reflects the model's performance on unseen data, it's recommended to perform oversampling or undersampling within the cross-validation loop rather than before it. This way, you maintain the integrity of the data separation and obtain more reliable performance estimates for your machine learning model.\n",
    "\n",
    "\n",
    "\n",
    "\n"
   ]
  },
  {
   "cell_type": "code",
   "execution_count": 68,
   "id": "5ff64940",
   "metadata": {},
   "outputs": [],
   "source": [
    "from sklearn.model_selection import StratifiedKFold # StratifiedKFold: This is a cross-validation technique that preserves the class distribution in each fold, making it especially useful for imbalanced datasets. It ensures that the proportion of each class in each fold remains similar to the original dataset.\n",
    "from sklearn.ensemble import RandomForestClassifier\n",
    "\n",
    "#We are going to ensure that we have the same splits of the data every time. \n",
    "#We can ensure this by creating a KFold object, kf, and passing cv=kf instead of the more common cv=5.\n",
    "\n",
    "kf = StratifiedKFold(n_splits=5, shuffle=False) # n_splits: This parameter specifies the number of folds you want to create during cross-validation. In your code, n_splits=5 indicates that you'll have 5 folds, meaning the dataset will be divided into 5 subsets for cross-validation. shuffle: This parameter determines whether the data is shuffled before being split into folds. When shuffle is set to False, the data is divided into contiguous segments without shuffling. In your code, shuffle=False indicates that the order of instances in the original dataset will be maintained in each fold\n"
   ]
  },
  {
   "cell_type": "code",
   "execution_count": 69,
   "id": "aae6f511",
   "metadata": {},
   "outputs": [],
   "source": [
    "rf = RandomForestClassifier(n_estimators=100, random_state=13) # The code rf=RandomForestClassifier(n_estimators=100,random_state=13) creates a Random Forest classifier with 100 trees and a random state of 13. The n_estimators parameter controls the number of trees in the forest. The higher the number of trees, the more complex the model will be and the more likely it is to overfit the training data. The random_state parameter controls the random number generator used to create the trees. This ensures that the results are reproducible. In general, it is a good idea to start with a small number of trees and then increase the number until the model starts to overfit the training data. Once the model starts to overfit, you can then try to reduce the number of trees or use other techniques to prevent overfitting. The random_state parameter is not as important as the n_estimators parameter, but it can be helpful to set it to a fixed value so that the results are reproducible. Here is a brief explanation of how a Random Forest classifier works: The Random Forest classifier starts by creating a random sample of the training data. For each tree in the forest, the Random Forest classifier randomly selects a subset of features to consider. The Random Forest classifier then grows a tree based on the randomly selected features and the training data sample. This process is repeated until the desired number of trees has been created. To make a prediction, the Random Forest classifier votes for the class that is most popular among the trees in the forest. The Random Forest classifier is a popular machine learning algorithm because it is relatively easy to understand and implement, and it is often very accurate. However, it can be computationally expensive to train a Random Forest classifier with a large number of trees.\n",
    "#cross_val_score(rf, X_train, y_train, cv=kf, scoring='recall')\n",
    "\n",
    "\n",
    "rf=RandomForestClassifier(n_estimators=100,random_state=13) \n",
    "#cross_val_score(rf, X_train, y_train, cv=kf, scoring='recall')"
   ]
  },
  {
   "cell_type": "markdown",
   "id": "da679368",
   "metadata": {},
   "source": [
    "### 7.4 Optimising for Recall\n",
    "Recall: The ability of a model to find all the relevant cases within a data set. The number of true positives divided by the number of true positives plus the number of false negatives.\n",
    "\n",
    "In most high-risk detection cases (like cancer), recall is a more important evaluation metric than precision.\n",
    "\n",
    "In the case of credit card fraud detection, we want to avoid false negatives as much as possible. Fraud transactions cost us a lot and thus we want to take appropriate measures to prevent them. A false negative case means that a fraud-positive transaction is assessed to genuine transaction, which is detrimental. In this use case, false positives (a genuine transaction as fraud-positive) are not as important as preventing a fraud."
   ]
  },
  {
   "cell_type": "code",
   "execution_count": 70,
   "id": "f42d4b56",
   "metadata": {},
   "outputs": [
    {
     "name": "stdout",
     "output_type": "stream",
     "text": [
      "Cross Validation Recall scores are: [0.8030303  0.74242424 0.76119403 0.87878788 0.65151515]\n",
      "Average Cross Validation Recall score: 0.7673903211216644\n"
     ]
    }
   ],
   "source": [
    "score = cross_val_score(rf, X_train, y_train, cv=kf, scoring='recall')\n",
    "print(\"Cross Validation Recall scores are: {}\".format(score))\n",
    "print(\"Average Cross Validation Recall score: {}\".format(score.mean()))"
   ]
  },
  {
   "cell_type": "markdown",
   "id": "2dc0074a",
   "metadata": {},
   "source": [
    "### 7.5 When is Precision more important over Recall?\n",
    "Precision is more important than Recall when you would like to have less False Positives in trade off to have more False Negatives. Meaning, getting a False Positive is very costly, and a False Negative is not as much.\n",
    "\n",
    "Imagine a zombie apocalypse. You would try to accept as many healthy people as you can into your safe zone, but you really dont want to mistakenly pass a zombie. The true positive is this case is a healthy person and false positive a zombie. It is more important to avoid zombies than accepting more healthy people. So you create a method that causes some of the healthy people mistakenly not to get into the safe zone, but this is the cost of not letting a zombie in."
   ]
  },
  {
   "cell_type": "markdown",
   "id": "043daf73",
   "metadata": {},
   "source": [
    "### 7.6 Hyperparameter Tuning Using GridSearchCV\n",
    "Hyperparameter tuning is the process of tuning the parameters present as the tuples while we build machine learning models. These parameters are defined by us. Machine learning algorithms never learn these parameters. These can be tuned in different step.\n",
    "\n",
    "GridSearchCV is a technique for finding the optimal hyperparameter values from a given set of parameters in a grid. It's essentially a cross-validation technique. The model as well as the parameters must be entered. After extracting the best parameter values, predictions are made.\n",
    "\n",
    "The “best” parameters that GridSearchCV identifies are technically the best that could be produced, but only by the parameters that you included in your parameter grid."
   ]
  },
  {
   "cell_type": "code",
   "execution_count": null,
   "id": "4a67a90b",
   "metadata": {},
   "outputs": [],
   "source": [
    "from sklearn.model_selection import GridSearchCV\n",
    "\n",
    "params = {\n",
    "    'n_estimators': [50, 100, 200],\n",
    "    'max_depth': [4, 6, 10, 12],\n",
    "    'random_state': [13]\n",
    "}\n",
    "\n",
    "grid_rf = GridSearchCV(rf, param_grid=params, cv=kf, \n",
    "                          scoring='recall').fit(X_train, y_train)"
   ]
  },
  {
   "cell_type": "markdown",
   "id": "1994aac1",
   "metadata": {},
   "source": [
    "1. kf = StratifiedKFold(n_splits=5, shuffle=False)\n",
    "2. rf = RandomForestClassifier(n_estimators=100, random_state=13)\n",
    "4 . -\n",
    "3. score = cross_val_score(rf, X_train, y_train, cv=kf, scoring='recall')\n",
    "  print(\"Cross Validation Recall scores are: {}\".format(score))\n",
    " print(\"Average Cross Validation Recall score: {}\".format(score.mean)\n",
    "\n",
    "4. from sklearn.model_selection import GridSearchCV\n",
    "params={\n",
    "    'n_estimators': [50, 100, 200],\n",
    "    'max_depth': [4, 6, 10, 12],\n",
    "    'random_state': [13]\n",
    "}\n",
    "grid_rf=GridSearchCV(rf,param_grid=params,cv=kf,scoring='recall').fit(X_train,y_train)\n",
    "\n",
    "\n",
    "explanation\n",
    "The code you provided is a good example of how to use cross-validation and grid search to tune the hyperparameters of a Random Forest classifier.\n",
    "\n",
    "The kf = StratifiedKFold(n_splits=5, shuffle=False) line creates a StratifiedKFold object with 5 folds. This means that the data will be split into 5 folds, with each fold containing an equal proportion of the different classes in the dataset. This is important for ensuring that the cross-validation results are accurate.\n",
    "\n",
    "The rf = RandomForestClassifier(n_estimators=100, random_state=13) line creates a Random Forest classifier with 100 trees and a random state of 13. This is the base model that we will use to compare the different hyperparameters.\n",
    "\n",
    "The params={'n_estimators': [50, 100, 200], 'max_depth': [4, 6, 10, 12], 'random_state': [13]} line defines a dictionary of hyperparameters that we will use to tune the Random Forest classifier. The n_estimators parameter controls the number of trees in the forest. The max_depth parameter controls the maximum depth of each tree. The random_state parameter controls the random number generator used to create the trees.\n",
    "\n",
    "The score = cross_val_score(rf, X_train, y_train, cv=kf, scoring='recall') line calculates the cross-validation recall score for the base model. The recall score is a measure of how well the model can identify the positive class.\n",
    "\n",
    "The print(\"Cross Validation Recall scores are: {}\".format(score)) line prints the cross-validation recall scores for the base model.\n",
    "\n",
    "The print(\"Average Cross Validation Recall score: {}\".format(score.mean())) line prints the average cross-validation recall score for the base model.\n",
    "\n",
    "The grid_rf=GridSearchCV(rf,param_grid=params,cv=kf,scoring='recall').fit(X_train,y_train) line uses grid search to tune the hyperparameters of the Random Forest classifier. The grid_rf object is a fitted grid search object that contains the best hyperparameters for the model.\n",
    "\n",
    "The code you provided is a good starting point for tuning the hyperparameters of a Random Forest classifier. However, you may need to try different values for the hyperparameters to find the best model for your specific dataset.\n"
   ]
  },
  {
   "cell_type": "code",
   "execution_count": null,
   "id": "66aac859",
   "metadata": {},
   "outputs": [],
   "source": [
    "print('Best parameters:', grid_rf.best_params_)\n",
    "print('Best score:', grid_rf.best_score_)"
   ]
  },
  {
   "cell_type": "markdown",
   "id": "dc913776",
   "metadata": {},
   "source": [
    "observation\n",
    "1. We have about 77% Recall on one of our models before oversampling. Let's check the test set scores."
   ]
  },
  {
   "cell_type": "code",
   "execution_count": null,
   "id": "d792eb97",
   "metadata": {},
   "outputs": [],
   "source": [
    "y_pred = grid_rf.predict(X_test) # we did hyperparameter tuning to our model to get good accuracu for predictions so whatever we did hyperparamter tuning to our model now i would like to check that accuarcy on the test  dat "
   ]
  },
  {
   "cell_type": "code",
   "execution_count": null,
   "id": "800aa526",
   "metadata": {},
   "outputs": [],
   "source": [
    "from sklearn.metrics import confusion matrix,recall_score,precision_score,f1_score,accuracy_score\n",
    "cm=confusion_matrix(y_test,y_pred) # The confusion_matrix() function takes two arguments: the actual labels (y_test) and the predicted labels (y_pred). The confusion matrix is a table that summarizes the performance of a classification model. It shows the number of true positives (TP), true negatives (TN), false positives (FP), and false negatives (FN) produced by the model. In your case, the confusion matrix is: [[84972     4] [   33   109]] The first row of the confusion matrix shows the results for the positive class. The first column shows the actual labels, and the second column shows the predicted labels. In this case, the positive class is 1 (the class that we are trying to predict). The first entry in the first row (84972) is the number of true positives. This means that the model correctly predicted that 84972 instances were in the positive class. The second entry in the first row (4) is the number of false negatives. This means that the model incorrectly predicted that 4 instances were in the negative class, when they were actually in the positive class. The second row of the confusion matrix shows the results for the negative class. The first column shows the actual labels, and the second column shows the predicted labels. In this case, the negative class is 0 (the class that we are not trying to predict). The first entry in the second row (33) is the number of false positives. This means that the model incorrectly predicted that 33 instances were in the positive class, when they were actually in the negative class. The second entry in the second row (109) is the number of true negatives. This means that the model correctly predicted that 109 instances were in the negative class. The confusion matrix is a useful tool for understanding the performance of a classification model. It can help you to identify the types of errors that the model is making, and it can help you to improve the model's performance.\n",
    "rf_Recall = recall_score(y_test, y_pred)\n",
    "rf_Precision = precision_score(y_test, y_pred)\n",
    "rf_f1 = f1_score(y_test, y_pred)\n",
    "rf_accuracy = accuracy_score(y_test, y_pred)\n",
    "print(cm)"
   ]
  },
  {
   "cell_type": "code",
   "execution_count": null,
   "id": "15b1edd1",
   "metadata": {},
   "outputs": [],
   "source": [
    "ndf = [(rf_Recall, rf_Precision, rf_f1, rf_accuracy)]\n",
    "\n",
    "rf_score = pd.DataFrame(data = ndf, columns=['Recall','Precision','F1 Score', 'Accuracy'])\n",
    "rf_score.insert(0, 'Random Forest with', 'No Under/Oversampling')\n",
    "rf_score"
   ]
  },
  {
   "cell_type": "markdown",
   "id": "e9de3fea",
   "metadata": {},
   "source": [
    "The result Recall score for a test set is 77%. We will try to beat that score."
   ]
  },
  {
   "cell_type": "markdown",
   "id": "39f70338",
   "metadata": {},
   "source": [
    "### 8. Random Resampling Imbalanced Datasets\n",
    "Resampling involves creating a new transformed version of the training dataset in which the selected examples have a different class distribution.\n",
    "\n",
    "There are two main approaches to random resampling for imbalanced classification; they are oversampling and undersampling.\n",
    "\n",
    "Random Oversampling: Randomly duplicate examples in the minority class.\n",
    "Random Undersampling: Randomly delete examples in the majority class.\n",
    "They are referred to as “naive resampling” methods because they assume nothing about the data and no heuristics are used. This makes them simple to implement and fast to execute, which is desirable for very large and complex datasets.\n",
    "\n",
    "Important\n",
    "Change to the class distribution should be only applied to the training dataset. The intent is to influence the fit of the models. The resampling is not applied to the test or holdout dataset used to evaluate the performance of a model.\n",
    "\n",
    "### 8.1 Random Oversampling\n",
    "The random oversampling may increase the likelihood of occurring overfitting, since it makes exact copies of the minority class examples. Let's say every data point from the minority class is copied 6 times before making the splits. If we did a 3-fold validation, each fold has (on average) 2 copies of each point! In this way a classifier might construct rules that are apparently accurate, but actually cover one replicated example."
   ]
  },
  {
   "cell_type": "code",
   "execution_count": null,
   "id": "245f465f",
   "metadata": {},
   "outputs": [],
   "source": [
    "from imblearn.over_sampling import RandomOverSampler\n",
    "#define oversampling strategy\n",
    "ros=RandomOversampler(random_state=42) # The code you have provided imports the RandomOverSampler class from the imblearn.over_sampling module. This class is used to oversample imbalanced datasets by randomly duplicating minority class samples. The ros=RandomOversampler(random_state=42) line defines a RandomOverSampler object with a random state of 42. This means that the same sequence of random numbers will be generated each time the RandomOverSampler object is used. The random state is an important parameter for the RandomOverSampler object because it can affect the performance of the model. If the random state is not set, the RandomOverSampler object will generate a new sequence of random numbers each time it is used. This can lead to different results each time the model is trained, which can make it difficult to compare the results of different experiments.\n"
   ]
  },
  {
   "cell_type": "code",
   "execution_count": null,
   "id": "71cbe768",
   "metadata": {},
   "outputs": [],
   "source": [
    "# fir and apply the transform\n",
    "X_over,y_over=ros.fit_resample(X_train,y_train)#  The RandomOverSampler object can be used to oversample a dataset by calling the fit_resample() method. This method takes two arguments: the features and labels of the dataset. The fit_resample() method will first fit the RandomOverSampler object to the features and labels of the dataset. This will learn the distribution of the minority class. The fit_resample() method will then resample the dataset by randomly duplicating minority class samples. The resampled dataset will have the same number of samples in each class. The resampled dataset can then be used to train a machine learning model. The model trained on the resampled dataset should be more accurate on imbalanced datasets than a model trained on the original dataset. I hope this explanation is helpful! Let me know if you have any other questions.\n",
    " "
   ]
  },
  {
   "cell_type": "code",
   "execution_count": null,
   "id": "83150031",
   "metadata": {},
   "outputs": [],
   "source": [
    "print('Genuine:',y_over.value_counts()[0],'/',round(y_over.value_counts()[0]/len(y_over)*100,2),\"% of the dataset\")\n",
    "print('Frauds:', y_over.value_counts()[1], '/',round(y_over.value_counts()[1]/len(y_over) * 100,2), '% of the dataset')"
   ]
  },
  {
   "cell_type": "markdown",
   "id": "a7fc8623",
   "metadata": {},
   "source": [
    "### 8.1.1 Imbalanced-Learn Pipeline\n",
    "The purpose of the pipeline is to assemble several steps that can be cross-validated together while setting different parameters.\n",
    "\n",
    "During the cross-validation process we should split into training and validation segments. Then, on each segment, we should:\n",
    "\n",
    "Oversample the minority class.\n",
    "Train the classifier on the training segment.\n",
    "Validate the classifier on the remaining segment.\n",
    "Pipeline is a great way to do this in a smart way.\n",
    "\n",
    "The imblearn package contains a lot of different samplers for oversampling and undersampling. These samplers can not be placed in a standard sklearn pipeline.\n",
    "\n",
    "To allow for using a pipeline with these samplers, the imblearn package also implements an extended pipeline which has a bunch of extra functions to do with transforming and sampling.\n",
    "\n",
    "### 8.1.2 Training model"
   ]
  },
  {
   "cell_type": "code",
   "execution_count": null,
   "id": "0e1e592c",
   "metadata": {},
   "outputs": [],
   "source": [
    "from imlearn.pipeline import Pipeline,make_pipeline\n",
    "random_overs_pipeline=make_pipeline(RandomOverSampler(random_state=42),RandomForestClassifier(n_estimators=100,random_state=13)) # The code you have provided imports the Pipeline and make_pipeline classes from the imblearn.pipeline module. These classes are used to create pipelines of machine learning estimators. The random_overs_pipeline=make_pipeline(RandomOverSampler(random_state=42),RandomForestClassifier(n_estimators=100,random_state=13))) line defines a pipeline object that consists of two steps: A RandomOverSampler object with a random state of 42. This step will oversample the dataset by randomly duplicating minority class samples. A RandomForestClassifier object with 100 estimators and a random state of 13. This step will train a random forest classifier on the oversampled dataset. The pipeline object can be used to train a machine learning model on an imbalanced dataset. The pipeline will first oversample the dataset and then train a random forest classifier on the oversampled dataset. The model trained on the oversampled dataset should be more accurate on imbalanced datasets than a model trained on the original dataset. The make_pipeline() function is a convenience function that makes it easy to create pipelines of machine learning estimators. The make_pipeline() function takes a list of estimators as its argument. The estimators in the list will be executed in sequence. The output of one estimator will be the input to the next estimator. The random_overs_pipeline object is a useful tool for dealing with imbalanced datasets. It can be used to train machine learning models that are more accurate on imbalanced datasets than models trained on the original dataset.\n",
    "#cross_val_score(random_overs_pipeline, X_train, y_train, scoring='recall', cv=kf)"
   ]
  },
  {
   "cell_type": "code",
   "execution_count": null,
   "id": "d8806a6b",
   "metadata": {},
   "outputs": [],
   "source": [
    "score2=cross_val_score(raqndom_overs_pipeline,X_train,y_train,scoring=\"recall\",cv=kf)\n",
    "print(\"Cross Validation Recall Scores are: {}\".format(score2))\n",
    "print(\"Average Cross Validation Recall score: {}\".format(score2.mean()))"
   ]
  },
  {
   "cell_type": "markdown",
   "id": "eeb21746",
   "metadata": {},
   "source": [
    "#### 8.1.3 GridSearchCV"
   ]
  },
  {
   "cell_type": "code",
   "execution_count": null,
   "id": "ba458192",
   "metadata": {},
   "outputs": [],
   "source": [
    "new_params={'randomforestclassifier__'+ key: params[key] for key in params}\n",
    "grid_over_rf=GridSearchCV(random_overs,pipeline,param_grid=new_params,cv=kf,scoring='recall',return_train_score=True)\n",
    "grid_overrf.fit(X_train,y_train)"
   ]
  },
  {
   "cell_type": "code",
   "execution_count": null,
   "id": "3436fd1d",
   "metadata": {},
   "outputs": [],
   "source": [
    "print('Best parameters:', grid_over_rf.best_params_)\n",
    "print('Best score:', grid_over_rf.best_score_)"
   ]
  },
  {
   "cell_type": "markdown",
   "id": "2c36b666",
   "metadata": {},
   "source": [
    "### 8.1.4 Confusion matrix and scores\n"
   ]
  },
  {
   "cell_type": "code",
   "execution_count": null,
   "id": "e73948ef",
   "metadata": {},
   "outputs": [],
   "source": [
    "y_pred = grid_over_rf.best_estimator_.named_steps['randomforestclassifier'].predict(X_test)"
   ]
  },
  {
   "cell_type": "code",
   "execution_count": null,
   "id": "a2187bed",
   "metadata": {},
   "outputs": [],
   "source": [
    "cm = confusion_matrix(y_test, y_pred)\n",
    "\n",
    "over_rf_Recall = recall_score(y_test, y_pred)\n",
    "over_rf_Precision = precision_score(y_test, y_pred)\n",
    "over_rf_f1 = f1_score(y_test, y_pred)\n",
    "over_rf_accuracy = accuracy_score(y_test, y_pred)\n",
    "\n",
    "print(cm)"
   ]
  },
  {
   "cell_type": "code",
   "execution_count": null,
   "id": "e1e3a05c",
   "metadata": {},
   "outputs": [],
   "source": [
    "ndf=[(over_rf_Recall,over_rf_Precision,over_rf_f1,over_rf_accuracy)]\n",
    "over_rf_score=pd.DataFrame(data=ndf,columns=['recall','Precision','F1 Score','Accuracy'])\n",
    "over_rf_score.insert(0,'Random Forest with','Random Over Sampling')\n",
    "over_rf_score"
   ]
  },
  {
   "cell_type": "markdown",
   "id": "0b4a718d",
   "metadata": {},
   "source": [
    "### explaination of whole code of  8.Random oversampling \n",
    "The code you have provided implements a random oversampling technique to deal with an imbalanced dataset. The code first defines a RandomOverSampler object with a random state of 42. This object is then used to oversample the training dataset, creating two copies of each minority class sample. The oversampled training dataset is then used to train a random forest classifier.\n",
    "\n",
    "The random forest classifier is then evaluated on the test dataset using the recall metric. The recall metric measures the proportion of true positives that were correctly identified. The random forest classifier achieves a recall score of 0.838028 on the test dataset. This means that 83.80% of the true positive cases were correctly identified by the random forest classifier.\n",
    "\n",
    "The confusion matrix for the random forest classifier is also printed. The confusion matrix shows the number of true positives, false positives, true negatives, and false negatives for the random forest classifier. The confusion matrix for the random forest classifier is shown below:\n",
    "\n",
    "[[84593   383]\n",
    " [   23   119]]\n",
    "The confusion matrix shows that the random forest classifier correctly identified 84,593 of the true positive cases and 119 of the true negative cases. The random forest classifier also incorrectly identified 383 of the negative cases as positive and 23 of the positive cases as negative.\n",
    "\n",
    "The overall accuracy of the random forest classifier is also calculated and printed. The overall accuracy of the random forest classifier is 0.99523, which means that the random forest classifier correctly classified 99.52% of the test samples.\n",
    "\n",
    "The code you have provided is a good example of how to use random oversampling to deal with an imbalanced dataset. The random oversampling technique helps to improve the recall score of the random forest classifier, which is important for identifying as many true positive cases as possible. The confusion matrix and overall accuracy of the random forest classifier can also be used to evaluate the performance of the model."
   ]
  },
  {
   "cell_type": "markdown",
   "id": "eeb0e4cd",
   "metadata": {},
   "source": [
    "### 8.2 Random Undersampling Imbalanced Datasets\n",
    "Random undersampling involves randomly selecting examples from the majority class to delete from the training dataset. This approach may be more suitable for those datasets where there is a class imbalance although a sufficient number of examples in the minority class, such a useful model can be fit."
   ]
  },
  {
   "cell_type": "code",
   "execution_count": null,
   "id": "58729a0e",
   "metadata": {},
   "outputs": [],
   "source": [
    "from imblearn.under_sampling import RandomUnderSampler\n",
    "#define oversampling strategy\n",
    "rus=RandomUnderSampler(random_state=42)\n"
   ]
  },
  {
   "cell_type": "code",
   "execution_count": null,
   "id": "a506a8f5",
   "metadata": {},
   "outputs": [],
   "source": [
    "# fit and apply the transform\n",
    "X_under,y_under=rus.fit_resample(X_train,y_train)"
   ]
  },
  {
   "cell_type": "code",
   "execution_count": null,
   "id": "e5052707",
   "metadata": {},
   "outputs": [],
   "source": [
    "print('Genuine:', y_under.value_counts()[0], '/', round(y_under.value_counts()[0]/len(y_under) * 100,2), '% of the dataset')\n",
    "print('Frauds:', y_under.value_counts()[1], '/',round(y_under.value_counts()[1]/len(y_under) * 100,2), '% of the dataset')"
   ]
  },
  {
   "cell_type": "markdown",
   "id": "9bf6c597",
   "metadata": {},
   "source": [
    "With our dataset after undersampling we have only 662 record so it's not the best idea to take advantage of that technique."
   ]
  },
  {
   "cell_type": "markdown",
   "id": "431720f0",
   "metadata": {},
   "source": [
    "### Explaination for the Random Undersampling \n",
    "the code which i provided implements a random undersampling technique to deal with an imbalanced dataset. The code first defines a RandomUnderSampler object with a random state of 42. This object is then used to undersample the training dataset, randomly removing majority class samples until the majority class and minority class have the same number of samples.\n",
    "\n",
    "The undersampled training dataset is then used to train a random forest classifier. However, the code prints the following message:\n",
    "\n",
    "With our dataset after undersampling we have only 662 record so it's not the best idea to take advantage of that technique.\n",
    "\n",
    "This message is correct because the undersampled training dataset only has 662 samples, which is too small for a random forest classifier to learn effectively. A random forest classifier typically needs at least a few thousand samples to learn effectively.\n",
    "\n",
    "In general, undersampling is not a good idea for datasets with a small number of samples. Undersampling can also lead to the loss of important information from the majority class, which can hurt the performance of the machine learning model.\n",
    "\n",
    "If you are dealing with an imbalanced dataset with a small number of samples, it is better to use a technique like SMOTE (Synthetic Minority Oversampling Technique) to oversample the minority class. SMOTE creates synthetic samples for the minority class, which can help to improve the performance of machine learning models on imbalanced datasets."
   ]
  },
  {
   "cell_type": "markdown",
   "id": "8596941e",
   "metadata": {},
   "source": [
    "### 9. SMOTE (Synthetic Minority Oversampling Technique)"
   ]
  },
  {
   "cell_type": "markdown",
   "id": "34396d65",
   "metadata": {},
   "source": [
    "SMOTE (Synthetic Minority Oversampling Technique) synthesize elements for the minority class. SMOTE works by selecting examples that are close in the feature space, drawing a line between the examples in the feature space and drawing a new sample at a point along that line."
   ]
  },
  {
   "cell_type": "markdown",
   "id": "9fadd7e9",
   "metadata": {},
   "source": [
    "### 9.1 Training model"
   ]
  },
  {
   "cell_type": "code",
   "execution_count": null,
   "id": "cf1b4256",
   "metadata": {},
   "outputs": [],
   "source": [
    "from imblearn.over_sampling import SMOTE\n",
    "smote_pipeline=make_pipleine(SMOTE(random_state=42),RandomForestClassifier(n_estimators=100,random_state=13)) # The code you have provided defines a pipeline object that consists of two steps: A SMOTE object with a random state of 42. This step will oversample the dataset by creating synthetic samples for the minority class. A RandomForestClassifier object with 100 estimators and a random state of 13. This step will train a random forest classifier on the oversampled dataset. The pipeline object can be used to train a machine learning model on an imbalanced dataset. The pipeline will first oversample the dataset and then train a random forest classifier on the oversampled dataset. The model trained on the oversampled dataset should be more accurate on imbalanced datasets than a model trained on the original dataset. The SMOTE object is a popular technique for oversampling imbalanced datasets. SMOTE creates synthetic samples for the minority class by finding the k-nearest neighbors of each minority class sample and then creating a new sample that is a combination of the minority class sample and one of its neighbors. SMOTE is a good choice for oversampling imbalanced datasets because it does not introduce any new information into the dataset and it can help to improve the performance of machine learning models on imbalanced datasets. The RandomForestClassifier object is a popular machine learning algorithm for classification tasks. Random forest classifiers are known for their accuracy and their ability to handle noisy data. The random forest classifier in this pipeline will be trained on the oversampled dataset and will be used to classify new data. The pipeline object is a convenient way to combine multiple machine learning algorithms into a single model. The pipeline object can be used to train and evaluate machine learning models on imbalanced datasets.\n",
    "#cross_val_score(smote_pipeline, X_train, y_train, scoring='recall', cv=kf)"
   ]
  },
  {
   "cell_type": "code",
   "execution_count": null,
   "id": "6abad39a",
   "metadata": {},
   "outputs": [],
   "source": [
    "score3=cross_val_score(smote_pipeline,X_train,y_train,scoring='recall',cv=kf) # The code which i have provided evaluates the performance of the SMOTE pipeline using cross-validation. The cross-validation procedure splits the training dataset into 5 folds. The SMOTE pipeline is then trained on 4 folds of the dataset and evaluated on the remaining fold. This process is repeated 5 times, and the average recall score is calculated.\n",
    "print(\"Cross Validation Recall Scores are: {}\".format(score3))\n",
    "print(\"Average Cross Validation Recall score: {}\".format(score3.mean()))"
   ]
  },
  {
   "cell_type": "markdown",
   "id": "133da1e9",
   "metadata": {},
   "source": [
    "\n",
    "\n",
    "Cross Validation Recall Scores are: [0.86363636 0.83333333 0.76119403 0.87878788 0.72727273]\n",
    "Average Cross Validation Recall score: 0.8128448665762098\n",
    "The average cross-validation recall score of 0.8128448665762098 is lower than the recall score of 0.8671304211908501 achieved by the SMOTE pipeline in the previous example. This suggests that the SMOTE pipeline is not always able to improve the performance of the random forest classifier on imbalanced datasets.\n",
    "\n",
    "The cross-validation scores show that the SMOTE pipeline is able to achieve a high recall score on 3 of the 5 folds of the dataset. However, the SMOTE pipeline is not able to achieve a high recall score on the remaining 2 folds of the dataset. This suggests that the SMOTE pipeline may be overfitting the training dataset on some folds and is not able to generalize well to new data on other folds.\n",
    "\n",
    "Overall, the code you have provided shows that the SMOTE pipeline is not always a good choice for oversampling imbalanced datasets and can sometimes lead to overfitting. It is important to evaluate the performance of the SMOTE pipeline on the training dataset and the test dataset to ensure that it is not overfitting."
   ]
  },
  {
   "cell_type": "markdown",
   "id": "be8c8db7",
   "metadata": {},
   "source": [
    "#### 9.2 GridSearchCV"
   ]
  },
  {
   "cell_type": "code",
   "execution_count": null,
   "id": "31edf26c",
   "metadata": {},
   "outputs": [],
   "source": [
    "new_params = {'randomforestclassifier__' + key: params[key] for key in params} # The line new_params = {'randomforestclassifier__' + key: params[key] for key in params} creates a dictionary of hyperparameters for the random forest classifier. The dictionary is created by taking the params dictionary and adding the prefix randomforestclassifier__ to each key. This is necessary because the GridSearchCV object expects the hyperparameters to be specified with this prefix. The line smote_rf = GridSearchCV(smote_pipeline, param_grid=new_params, cv=kf, scoring='recall', return_train_score=True) creates a GridSearchCV object. The GridSearchCV object is used to perform a grid search over the hyperparameters of the random forest classifier in the SMOTE pipeline. The param_grid parameter specifies the hyperparameters that will be searched over. The cv parameter specifies the number of folds for cross-validation. The scoring parameter specifies the metric that will be used to evaluate the performance of the models. The return_train_score parameter specifies whether the training scores should be returned. The line smote_rf.fit(X_train, y_train) fits the GridSearchCV object to the training dataset. The code you have provided performs the following steps: It creates a dictionary of hyperparameters for the random forest classifier. It creates a GridSearchCV object and specifies the hyperparameters that will be searched over. It specifies the number of folds for cross-validation. It specifies the metric that will be used to evaluate the performance of the models. It specifies whether the training scores should be returned. It fits the GridSearchCV object to the training dataset. The GridSearchCV object will search over the hyperparameters in the param_grid dictionary and select the values that result in the best performance on the training dataset. The best parameters and the best score will be printed to the console. I hope this explanation is helpful! Let me know if you have any other questions.\n",
    "smote_rf = GridSearchCV(smote_pipeline, param_grid=new_params, cv=kf, scoring='recall',\n",
    "                        return_train_score=True)\n",
    "smote_rf.fit(X_train, y_train)"
   ]
  },
  {
   "cell_type": "code",
   "execution_count": null,
   "id": "8c38c620",
   "metadata": {},
   "outputs": [],
   "source": [
    "print('Best parameters:', smote_rf.best_params_)\n",
    "print('Best score:', smote_rf.best_score_)"
   ]
  },
  {
   "cell_type": "markdown",
   "id": "7f4dfe25",
   "metadata": {},
   "source": [
    "### 9.3 Confusion matrix and scores\n"
   ]
  },
  {
   "cell_type": "code",
   "execution_count": null,
   "id": "26e0b42c",
   "metadata": {},
   "outputs": [],
   "source": [
    "y_pred = smote_rf.best_estimator_.named_steps['randomforestclassifier'].predict(X_test)"
   ]
  },
  {
   "cell_type": "code",
   "execution_count": null,
   "id": "119afe19",
   "metadata": {},
   "outputs": [],
   "source": [
    "cm = confusion_matrix(y_test, y_pred)\n",
    "\n",
    "smote_rf_Recall = recall_score(y_test, y_pred)\n",
    "smote_rf_Precision = precision_score(y_test, y_pred)\n",
    "smote_rf_f1 = f1_score(y_test, y_pred)\n",
    "smote_rf_accuracy = accuracy_score(y_test, y_pred)\n",
    "\n",
    "print(cm)"
   ]
  },
  {
   "cell_type": "code",
   "execution_count": null,
   "id": "5aa69a24",
   "metadata": {},
   "outputs": [],
   "source": [
    "ndf = [(smote_rf_Recall, smote_rf_Precision, smote_rf_f1, smote_rf_accuracy)]\n",
    "\n",
    "smote_rf_score = pd.DataFrame(data = ndf, columns=['Recall','Precision','F1 Score', 'Accuracy'])\n",
    "smote_rf_score.insert(0, 'Random Forest with', 'SMOTE Oversampling')\n",
    "smote_rf_score"
   ]
  },
  {
   "cell_type": "markdown",
   "id": "d3d75c0c",
   "metadata": {},
   "source": [
    "### 10. Undersampling using Tomek Links\n",
    "Tomek Links is an under-sampling technique that was developed in 1976 by Ivan Tomek. It is one of a modification from Condensed Nearest Neighbors (CNN). It can be used to find desired samples of data from the majority class that is having the lowest Euclidean distance with the minority class data and then remove it."
   ]
  },
  {
   "cell_type": "code",
   "execution_count": null,
   "id": "7494c349",
   "metadata": {},
   "outputs": [],
   "source": [
    "from imblearn.under_sampling import TomekLinks\n",
    "\n",
    "# define the undersampling method\n",
    "#tomekU = TomekLinks(sampling_strategy='auto', n_jobs=-1)\n",
    "tomekU = TomekLinks()\n",
    "\n",
    "# fit and apply the transform\n",
    "X_underT, y_underT = tomekU.fit_resample(X_train, y_train)"
   ]
  },
  {
   "cell_type": "code",
   "execution_count": null,
   "id": "fe39f323",
   "metadata": {},
   "outputs": [],
   "source": [
    "print('Genuine:', y_underT.value_counts()[0], '/', round(y_underT.value_counts()[0]/len(y_underT) * 100,2), '% of the dataset')\n",
    "print('Frauds:', y_underT.value_counts()[1], '/',round(y_underT.value_counts()[1]/len(y_underT) * 100,2), '% of the dataset')"
   ]
  },
  {
   "cell_type": "markdown",
   "id": "263a55ff",
   "metadata": {},
   "source": [
    "### 11. Combining SMOTE and Tomek Links\n",
    "A combination of over-sampling the minority (abnormal) class and under-sampling the majority (normal) class can achieve better classifier performance than only under-sampling the majority class. This method was first introduced by Batista et al. (2003).\n",
    "\n",
    "The process of SMOTE-Tomek Links is as follows.\n",
    "\n",
    "Start of SMOTE: choose random data from the minority class.\n",
    "Calculate the distance between the random data and its k nearest neighbors.\n",
    "Multiply the difference with a random number between 0 and 1, then add the result to the minority class as a synthetic sample.\n",
    "Repeat step number 2–3 until the desired proportion of minority class is met (End of SMOTE).\n",
    "Start of Tomek Links: choose random data from the majority class.\n",
    "If the random data’s nearest neighbor is the data from the minority class (i.e. create the Tomek Link), then remove the Tomek Link.\n",
    "\n",
    "### 11.1 Training model"
   ]
  },
  {
   "cell_type": "code",
   "execution_count": null,
   "id": "79e3b527",
   "metadata": {},
   "outputs": [],
   "source": [
    "from imblearn.combine import SMOTETomek\n",
    "\n",
    "SMOTETomek_pipeline = make_pipeline(SMOTETomek(tomek=TomekLinks(sampling_strategy='majority')), \n",
    "                              RandomForestClassifier(n_estimators=100, random_state=13))\n",
    "#cross_val_score(smote_pipeline, X_train, y_train, scoring='recall', cv=kf)"
   ]
  },
  {
   "cell_type": "markdown",
   "id": "02969be8",
   "metadata": {},
   "source": [
    "score4 = cross_val_score(SMOTETomek_pipeline, X_train, y_train, scoring='recall', cv=kf) print(\"Cross Validation Recall Scores are: {}\".format(score4)) print(\"Average Cross Validation Recall score: {}\".format(score4.mean()))"
   ]
  },
  {
   "cell_type": "markdown",
   "id": "4f40ed82",
   "metadata": {},
   "source": [
    "## 11.2 GridSearchCV\n",
    "GridSearchCV combined with SMOTE-Tomek and k-fold Cross-Validation is computationally very demanding. It takes more than 12 hours and that's impossible for Kaggle. That's why I did the computations on my local Yupyter Notebook and used best GridSearchCV parameters to fit the model.\n",
    "\n",
    "You can find the formula for GridSearchCV below"
   ]
  },
  {
   "cell_type": "code",
   "execution_count": null,
   "id": "84f8307a",
   "metadata": {},
   "outputs": [],
   "source": [
    "SMOTETomek_rf = SMOTETomek_pipeline\n",
    "SMOTETomek_rf.fit(X_train, y_train)"
   ]
  },
  {
   "cell_type": "markdown",
   "id": "eafd1e65",
   "metadata": {},
   "source": [
    "new_params = {'randomforestclassifier__' + key: params[key] for key in params} SMOTETomek_rf = GridSearchCV(SMOTETomek_pipeline, param_grid=new_params, cv=kf, scoring='recall', return_train_score=True) SMOTETomek_rf.fit(X_train, y_train)"
   ]
  },
  {
   "cell_type": "markdown",
   "id": "1f015a1e",
   "metadata": {},
   "source": [
    "### 11.3 Confusion matrix and scores\n",
    "\n"
   ]
  },
  {
   "cell_type": "code",
   "execution_count": null,
   "id": "ac479494",
   "metadata": {},
   "outputs": [],
   "source": [
    "y_pred = SMOTETomek_rf.predict(X_test)"
   ]
  },
  {
   "cell_type": "code",
   "execution_count": null,
   "id": "0e31f73c",
   "metadata": {},
   "outputs": [],
   "source": [
    "cm = confusion_matrix(y_test, y_pred)\n",
    "\n",
    "SMOTETomek_rf_Recall = recall_score(y_test, y_pred)\n",
    "SMOTETomek_rf_Precision = precision_score(y_test, y_pred)\n",
    "SMOTETomek_rf_f1 = f1_score(y_test, y_pred)\n",
    "SMOTETomek_rf_accuracy = accuracy_score(y_test, y_pred)\n",
    "\n",
    "print(cm)"
   ]
  },
  {
   "cell_type": "code",
   "execution_count": null,
   "id": "fb5dadeb",
   "metadata": {},
   "outputs": [],
   "source": [
    "ndf = [(SMOTETomek_rf_Recall, SMOTETomek_rf_Precision, SMOTETomek_rf_f1, SMOTETomek_rf_accuracy)]\n",
    "\n",
    "SMOTETomek_rf_score = pd.DataFrame(data = ndf, columns=['Recall','Precision','F1 Score', 'Accuracy'])\n",
    "SMOTETomek_rf_score.insert(0, 'Random Forest with', 'SMOTE + Tomek')\n",
    "SMOTETomek_rf_score"
   ]
  },
  {
   "cell_type": "markdown",
   "id": "b40a6640",
   "metadata": {},
   "source": [
    "### 12. Class weights in the models\n",
    "Most of the machine learning models provide a parameter called class_weights. For example, in a random forest classifier using, class_weights we can specify a higher weight for the minority class using a dictionary.\n",
    "\n",
    "Without weights set, the model treats each point as equally important. Weights scale the loss function. As the model trains on each point, the error will be multiplied by the weight of the point. The estimator will try to minimize error on the more heavily weighted classes, because they will have a greater effect on error, sending a stronger signal."
   ]
  },
  {
   "cell_type": "markdown",
   "id": "dc9e888b",
   "metadata": {},
   "source": [
    "### 12.1 Training model\n"
   ]
  },
  {
   "cell_type": "code",
   "execution_count": null,
   "id": "8c398bdf",
   "metadata": {},
   "outputs": [],
   "source": [
    "# If you choose class_weight = \"balanced\", \n",
    "# the classes will be weighted inversely proportional to how frequently they appear in the data.\n",
    "\n",
    "rfb = RandomForestClassifier(n_estimators=100, random_state=13, class_weight=\"balanced\")"
   ]
  },
  {
   "cell_type": "code",
   "execution_count": null,
   "id": "3a496c89",
   "metadata": {},
   "outputs": [],
   "source": [
    "score5 = cross_val_score(rfb, X_train, y_train, cv=kf, scoring='recall')\n",
    "print(\"Cross Validation Recall scores are: {}\".format(score5))\n",
    "print(\"Average Cross Validation Recall score: {}\".format(score5.mean()))"
   ]
  },
  {
   "cell_type": "markdown",
   "id": "28a4cfac",
   "metadata": {},
   "source": [
    "### 12.2 GridSearchCV\n"
   ]
  },
  {
   "cell_type": "code",
   "execution_count": null,
   "id": "acbce17b",
   "metadata": {},
   "outputs": [],
   "source": [
    "grid_rfb = GridSearchCV(rfb, param_grid=params, cv=kf, \n",
    "                          scoring='recall').fit(X_train, y_train)"
   ]
  },
  {
   "cell_type": "markdown",
   "id": "47e61ae2",
   "metadata": {},
   "source": [
    "### 12.3 Confusion matrix and scores"
   ]
  },
  {
   "cell_type": "code",
   "execution_count": null,
   "id": "0822ca85",
   "metadata": {},
   "outputs": [],
   "source": [
    "y_pred = grid_rfb.predict(X_test)\n"
   ]
  },
  {
   "cell_type": "code",
   "execution_count": null,
   "id": "7cc1a5c9",
   "metadata": {},
   "outputs": [],
   "source": [
    "cm = confusion_matrix(y_test, y_pred)\n",
    "\n",
    "grid_rfb_Recall = recall_score(y_test, y_pred)\n",
    "grid_rfb_Precision = precision_score(y_test, y_pred)\n",
    "grid_rfb_f1 = f1_score(y_test, y_pred)\n",
    "grid_rfb_accuracy = accuracy_score(y_test, y_pred)\n",
    "\n",
    "print(cm)"
   ]
  },
  {
   "cell_type": "code",
   "execution_count": null,
   "id": "6d2d333c",
   "metadata": {},
   "outputs": [],
   "source": [
    "ndf = [(grid_rfb_Recall, grid_rfb_Precision, grid_rfb_f1, grid_rfb_accuracy)]\n",
    "\n",
    "grid_rfb_score = pd.DataFrame(data = ndf, columns=['Recall','Precision','F1 Score', 'Accuracy'])\n",
    "grid_rfb_score.insert(0, 'Random Forest with', 'Class weights')\n",
    "grid_rfb_score"
   ]
  },
  {
   "cell_type": "markdown",
   "id": "cf876fb6",
   "metadata": {},
   "source": [
    "### 13. Performance comparison"
   ]
  },
  {
   "cell_type": "code",
   "execution_count": null,
   "id": "c8d9764e",
   "metadata": {},
   "outputs": [],
   "source": [
    "predictions=pd.concat([rf_score,over_rf_score,smote_rf_score,SMOTETomek_rf_score,grid_rfb_score],ignore_indx=True,sort=False)\n",
    "predictions.sort_values(by=['Recall'],ascending=False)"
   ]
  },
  {
   "cell_type": "markdown",
   "id": "54556c2b",
   "metadata": {},
   "source": [
    "### 13.1 Summary\n",
    "SMOTE Oversampling achived best Recall score, but it cost us a lot: Precision 0,25 and F1 Score: 0,39.\n",
    "The reference model without Under/Oversampling achived 0,77% Recall score.\n",
    "The most advanced model 'SMOTE and Tomek' wasn't the best in Recall score.\n",
    "Which model is the best? It depend on a business decision.\n",
    "\n",
    "#### Can we achive better results?\n",
    "\n",
    "Probably yes - there is much more to do when it comes to K-Fold Cross Validation and tuning hyperparameters."
   ]
  },
  {
   "cell_type": "markdown",
   "id": "5873ff4e",
   "metadata": {},
   "source": [
    "### 14. Other Metrics\n",
    "#### 14.1 AUC-ROC Curve\n",
    "AUC (Area Under The Curve) ROC (Receiver Operating Characteristics) curve.\n",
    "\n",
    "ROC is a probability curve and AUC represents the degree or measure of separability. It tells how much the model is capable of distinguishing between classes. Higher the AUC, the better the model is at predicting 0 classes as 0 and 1 classes as 1.\n",
    "\n",
    "The ROC curve is plotted with TPR against the FPR where TPR is on the y-axis and FPR is on the x-axis.\n",
    "\n",
    "An excellent model has AUC near to the 1 which means it has a good measure of separability. A poor model has an AUC near 0 which means it has the worst measure of separability.\n",
    "\n",
    "When AUC is 0.7, it means there is a 70% chance that the model will be able to distinguish between positive class and negative class.\n",
    "When AUC is approximately 0.5, the model has no discrimination capacity to distinguish between positive class and negative class.\n",
    "When AUC is approximately 0, the model is predicting a negative class as a positive class and vice versa."
   ]
  },
  {
   "cell_type": "code",
   "execution_count": null,
   "id": "dcc21978",
   "metadata": {},
   "outputs": [],
   "source": [
    "from sklearn.metrics import roc_auc_score\n",
    "ROCAUCscore=roc_auc_score(y_test,y_pred)\n",
    "print(f\"AUC-ROC Curve for Random Forest with Class weights: {ROCAUCscore:.4f}\")"
   ]
  },
  {
   "cell_type": "code",
   "execution_count": null,
   "id": "a95b07b1",
   "metadata": {},
   "outputs": [],
   "source": [
    "y_proba = grid_rfb.predict_proba(X_test)\n",
    "\n",
    "from sklearn.metrics import roc_curve\n",
    "from sklearn.metrics import RocCurveDisplay\n",
    "def plot_auc_roc_curve(y_test, y_pred):\n",
    "    fpr, tpr, _ = roc_curve(y_test, y_pred)\n",
    "    roc_display = RocCurveDisplay(fpr=fpr, tpr=tpr).plot()\n",
    "    roc_display.figure_.set_size_inches(5,5)\n",
    "    plt.plot([0, 1], [0, 1], color = 'g')\n",
    "# Plots the ROC curve using the sklearn methods - Good plot\n",
    "plot_auc_roc_curve(y_test, y_proba[:, 1])\n",
    "# Plots the ROC curve using the sklearn methods - Bad plot\n",
    "#plot_sklearn_roc_curve(y_test, y_pred)"
   ]
  },
  {
   "cell_type": "markdown",
   "id": "5138dbcf",
   "metadata": {},
   "source": [
    "### 14.2 Precision-Recall Curve (PR curve)\n",
    "The precision-recall curve shows the tradeoff between precision and recalls for different thresholds."
   ]
  },
  {
   "cell_type": "code",
   "execution_count": null,
   "id": "381fc92b",
   "metadata": {},
   "outputs": [],
   "source": [
    "from sklearn.metrics import precision_recall_curve\n",
    "from sklearn.metrics import PrecisionRecallDisplay\n",
    "\n",
    "display = PrecisionRecallDisplay.from_estimator(\n",
    "    grid_rfb, X_test, y_test, name=\"Average precision\")\n",
    "_ = display.ax_.set_title(\"Random Forest with Class weights\")"
   ]
  },
  {
   "cell_type": "markdown",
   "id": "c33f8a15",
   "metadata": {},
   "source": [
    "We can clearly see the point where we have to start trading a lot of Precision for better Recall score!\n",
    "\n",
    "Average precision (AP) summarizes such a plot as the weighted mean of precisions achieved at each threshold, with the increase in recall from the previous threshold"
   ]
  },
  {
   "cell_type": "code",
   "execution_count": null,
   "id": "3722374c",
   "metadata": {},
   "outputs": [],
   "source": []
  }
 ],
 "metadata": {
  "kernelspec": {
   "display_name": "Python 3 (ipykernel)",
   "language": "python",
   "name": "python3"
  },
  "language_info": {
   "codemirror_mode": {
    "name": "ipython",
    "version": 3
   },
   "file_extension": ".py",
   "mimetype": "text/x-python",
   "name": "python",
   "nbconvert_exporter": "python",
   "pygments_lexer": "ipython3",
   "version": "3.10.9"
  }
 },
 "nbformat": 4,
 "nbformat_minor": 5
}
